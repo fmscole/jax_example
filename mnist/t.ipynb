{
 "cells": [
  {
   "cell_type": "code",
   "execution_count": 3,
   "metadata": {},
   "outputs": [],
   "source": [
    "from torch.utils.data import DataLoader\n",
    "from dataset import train_dataset,val_dataset,test_loader\n",
    "import numpy as np"
   ]
  },
  {
   "cell_type": "code",
   "execution_count": 9,
   "metadata": {},
   "outputs": [],
   "source": [
    "train_loader = DataLoader(train_dataset, batch_size=50,num_workers=4,shuffle=True,collate_fn=None)\n",
    "val_loader = DataLoader(val_dataset, batch_size=50,num_workers=4,shuffle=True,collate_fn=None)"
   ]
  },
  {
   "cell_type": "code",
   "execution_count": 11,
   "metadata": {},
   "outputs": [
    {
     "name": "stdout",
     "output_type": "stream",
     "text": [
      "5050505050505050505050505050505050505050505050505050505050505050505050505050505050505050505050505050505050505050505050505050505050505050505050505050505050505050505050505050505050505050505050505050505050505050505050505050505050505050505050505020"
     ]
    }
   ],
   "source": [
    "for i,(x,y) in enumerate(val_loader):\n",
    "    x = np.array(x)\n",
    "    print(x.shape[0],end=\"\")"
   ]
  }
 ],
 "metadata": {
  "kernelspec": {
   "display_name": "Python 3.9.12 ('base')",
   "language": "python",
   "name": "python3"
  },
  "language_info": {
   "codemirror_mode": {
    "name": "ipython",
    "version": 3
   },
   "file_extension": ".py",
   "mimetype": "text/x-python",
   "name": "python",
   "nbconvert_exporter": "python",
   "pygments_lexer": "ipython3",
   "version": "3.9.12"
  },
  "orig_nbformat": 4,
  "vscode": {
   "interpreter": {
    "hash": "414339477dce8ad21bdf41cacf05011be0c0809da68b1d12623186fed67fb677"
   }
  }
 },
 "nbformat": 4,
 "nbformat_minor": 2
}
