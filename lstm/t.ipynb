{
 "cells": [
  {
   "cell_type": "code",
   "execution_count": 1,
   "metadata": {},
   "outputs": [],
   "source": [
    "from flax import linen as nn\n",
    "from flax.training import train_state\n",
    "import jax\n",
    "import jax.numpy as jnp\n",
    "import numpy as np\n",
    "import optax\n",
    "import tensorflow_datasets as tfds\n",
    "import tensorflow as tf \n",
    "\n",
    "from  stocks_dataset import x_train,x_test,y_train,y_test"
   ]
  },
  {
   "cell_type": "code",
   "execution_count": null,
   "metadata": {},
   "outputs": [],
   "source": [
    "batch_size=100\n",
    "num_epochs=30\n",
    "class SimpleScan(nn.Module):\n",
    "    @nn.compact\n",
    "    def __call__(self, xs,is_training:bool=True):\n",
    "        LSTM1 = nn.scan(nn.LSTMCell,\n",
    "                    variable_broadcast=\"params\",\n",
    "                    split_rngs={\"params\": False},\n",
    "                    in_axes=1,\n",
    "                    out_axes=1)\n",
    "                    \n",
    "        c1 = nn.LSTMCell.initialize_carry(jax.random.PRNGKey(0), (batch_size,), 100)\n",
    "        c1, xs=LSTM1()(c1, xs)\n",
    "        # print(xs.shape)\n",
    "        # print(xs.shape)\n",
    "        return xs"
   ]
  },
  {
   "cell_type": "code",
   "execution_count": 5,
   "metadata": {},
   "outputs": [
    {
     "name": "stdout",
     "output_type": "stream",
     "text": [
      "((16, 50), (16, 50))\n",
      "FrozenDict({\n",
      "    params: {\n",
      "        ScanLSTMCell_0: {\n",
      "            hf: {\n",
      "                bias: (50,),\n",
      "                kernel: (50, 50),\n",
      "            },\n",
      "            hg: {\n",
      "                bias: (50,),\n",
      "                kernel: (50, 50),\n",
      "            },\n",
      "            hi: {\n",
      "                bias: (50,),\n",
      "                kernel: (50, 50),\n",
      "            },\n",
      "            ho: {\n",
      "                bias: (50,),\n",
      "                kernel: (50, 50),\n",
      "            },\n",
      "            if: {\n",
      "                kernel: (30, 50),\n",
      "            },\n",
      "            ig: {\n",
      "                kernel: (30, 50),\n",
      "            },\n",
      "            ii: {\n",
      "                kernel: (30, 50),\n",
      "            },\n",
      "            io: {\n",
      "                kernel: (30, 50),\n",
      "            },\n",
      "        },\n",
      "    },\n",
      "})\n"
     ]
    }
   ],
   "source": [
    "import flax\n",
    "import flax.linen as nn\n",
    "from jax import random\n",
    "\n",
    "class SimpleScan(nn.Module):\n",
    "      @nn.compact\n",
    "      def __call__(self, c, xs):\n",
    "        LSTM = nn.scan(nn.LSTMCell,\n",
    "                       variable_broadcast=\"params\",\n",
    "                       split_rngs={\"params\": False},\n",
    "                       in_axes=1,\n",
    "                       out_axes=1)\n",
    "        return LSTM()(c, xs)\n",
    "\n",
    "seq_len, batch_size, in_feat, out_feat = 20, 16, 30, 50\n",
    "key_1, key_2, key_3 = random.split(random.PRNGKey(0), 3)\n",
    "\n",
    "xs = random.uniform(key_1, (batch_size, seq_len, in_feat))\n",
    "init_carry = nn.LSTMCell.initialize_carry(key_2, (batch_size,), out_feat)\n",
    "\n",
    "model = SimpleScan()\n",
    "variables = model.init(key_3, init_carry, xs)\n",
    "out_carry, out_val = model.apply(variables, init_carry, xs)\n",
    "print(jax.tree_util.tree_map(lambda x:x.shape,init_carry))\n",
    "print(jax.tree_util.tree_map(lambda x:x.shape,variables))\n"
   ]
  }
 ],
 "metadata": {
  "kernelspec": {
   "display_name": "Python 3.8.8 ('base')",
   "language": "python",
   "name": "python3"
  },
  "language_info": {
   "codemirror_mode": {
    "name": "ipython",
    "version": 3
   },
   "file_extension": ".py",
   "mimetype": "text/x-python",
   "name": "python",
   "nbconvert_exporter": "python",
   "pygments_lexer": "ipython3",
   "version": "3.8.8"
  },
  "orig_nbformat": 4,
  "vscode": {
   "interpreter": {
    "hash": "414339477dce8ad21bdf41cacf05011be0c0809da68b1d12623186fed67fb677"
   }
  }
 },
 "nbformat": 4,
 "nbformat_minor": 2
}
