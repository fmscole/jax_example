{
 "cells": [
  {
   "cell_type": "code",
   "execution_count": 1,
   "metadata": {},
   "outputs": [],
   "source": [
    "# pip install tushare\n",
    "# pip install keras_sequential_ascii"
   ]
  },
  {
   "cell_type": "code",
   "execution_count": 1,
   "metadata": {},
   "outputs": [],
   "source": [
    "# Part 1 - Data Preprocessing\n",
    "# Importing the libraries导入需要的库\n",
    "import numpy as np\n",
    "import matplotlib.pyplot as plt\n",
    "import pandas as pd\n",
    "import tushare as ts\n",
    "import keras\n",
    "from keras.layers import Dense, LSTM, Dropout, GRU, Bidirectional\n",
    "from keras.callbacks import EarlyStopping, ModelCheckpoint\n",
    "from keras.models import load_model "
   ]
  },
  {
   "cell_type": "code",
   "execution_count": 2,
   "metadata": {},
   "outputs": [],
   "source": [
    "# set the seed_num\n",
    "import json\n",
    "import os\n",
    "import random\n",
    "import tensorflow as tf\n",
    "seed_num = 42\n",
    "os.environ['PYTHONHASHSEED']=str(seed_num)\n",
    "random.seed(seed_num)\n",
    "np.random.seed(seed_num)\n",
    "tf.random.set_seed(seed_num)\n",
    "from tensorflow.compat.v1.keras import backend as K\n",
    "session_conf = tf.compat.v1.ConfigProto(intra_op_parallelism_threads=1,\n",
    "                             inter_op_parallelism_threads=1)\n",
    "sess=tf.compat.v1.Session(graph=tf.compat.v1.get_default_graph(),config=session_conf)\n",
    "K.set_session(sess)"
   ]
  },
  {
   "cell_type": "code",
   "execution_count": 3,
   "metadata": {},
   "outputs": [],
   "source": [
    "# early stopping\n",
    "earlystop = EarlyStopping(monitor='val_loss',\n",
    "                          min_delta=0,\n",
    "                          patience=20,\n",
    "                          verbose=2)\n",
    "\n",
    "mc = ModelCheckpoint(filepath='best_model.h5',\n",
    "                     monitor='val_acc',\n",
    "                     mode='max',\n",
    "                     verbose=1,\n",
    "                     save_best_only=True) "
   ]
  },
  {
   "cell_type": "code",
   "execution_count": 4,
   "metadata": {},
   "outputs": [
    {
     "data": {
      "text/html": [
       "<div>\n",
       "<style scoped>\n",
       "    .dataframe tbody tr th:only-of-type {\n",
       "        vertical-align: middle;\n",
       "    }\n",
       "\n",
       "    .dataframe tbody tr th {\n",
       "        vertical-align: top;\n",
       "    }\n",
       "\n",
       "    .dataframe thead th {\n",
       "        text-align: right;\n",
       "    }\n",
       "</style>\n",
       "<table border=\"1\" class=\"dataframe\">\n",
       "  <thead>\n",
       "    <tr style=\"text-align: right;\">\n",
       "      <th></th>\n",
       "      <th>Date</th>\n",
       "      <th>Open</th>\n",
       "      <th>High</th>\n",
       "      <th>Low</th>\n",
       "      <th>Close</th>\n",
       "      <th>Adj Close</th>\n",
       "      <th>Volume</th>\n",
       "    </tr>\n",
       "  </thead>\n",
       "  <tbody>\n",
       "    <tr>\n",
       "      <th>0</th>\n",
       "      <td>1990-01-02</td>\n",
       "      <td>23.68750</td>\n",
       "      <td>24.53125</td>\n",
       "      <td>23.62500</td>\n",
       "      <td>24.50000</td>\n",
       "      <td>6.590755</td>\n",
       "      <td>7041600</td>\n",
       "    </tr>\n",
       "    <tr>\n",
       "      <th>1</th>\n",
       "      <td>1990-01-03</td>\n",
       "      <td>24.68750</td>\n",
       "      <td>24.87500</td>\n",
       "      <td>24.59375</td>\n",
       "      <td>24.71875</td>\n",
       "      <td>6.649599</td>\n",
       "      <td>9464000</td>\n",
       "    </tr>\n",
       "    <tr>\n",
       "      <th>2</th>\n",
       "      <td>1990-01-04</td>\n",
       "      <td>24.75000</td>\n",
       "      <td>25.09375</td>\n",
       "      <td>24.71875</td>\n",
       "      <td>25.00000</td>\n",
       "      <td>6.725261</td>\n",
       "      <td>9674800</td>\n",
       "    </tr>\n",
       "    <tr>\n",
       "      <th>3</th>\n",
       "      <td>1990-01-05</td>\n",
       "      <td>24.96875</td>\n",
       "      <td>25.40625</td>\n",
       "      <td>24.87500</td>\n",
       "      <td>24.93750</td>\n",
       "      <td>6.708448</td>\n",
       "      <td>7570000</td>\n",
       "    </tr>\n",
       "    <tr>\n",
       "      <th>4</th>\n",
       "      <td>1990-01-08</td>\n",
       "      <td>24.81250</td>\n",
       "      <td>25.21875</td>\n",
       "      <td>24.81250</td>\n",
       "      <td>25.09375</td>\n",
       "      <td>6.750481</td>\n",
       "      <td>4625200</td>\n",
       "    </tr>\n",
       "  </tbody>\n",
       "</table>\n",
       "</div>"
      ],
      "text/plain": [
       "         Date      Open      High       Low     Close  Adj Close   Volume\n",
       "0  1990-01-02  23.68750  24.53125  23.62500  24.50000   6.590755  7041600\n",
       "1  1990-01-03  24.68750  24.87500  24.59375  24.71875   6.649599  9464000\n",
       "2  1990-01-04  24.75000  25.09375  24.71875  25.00000   6.725261  9674800\n",
       "3  1990-01-05  24.96875  25.40625  24.87500  24.93750   6.708448  7570000\n",
       "4  1990-01-08  24.81250  25.21875  24.81250  25.09375   6.750481  4625200"
      ]
     },
     "execution_count": 4,
     "metadata": {},
     "output_type": "execute_result"
    }
   ],
   "source": [
    "# 读取数据\n",
    "data = pd.read_csv('IBM.csv') #这里改成自己的文件路径\n",
    "data.head()"
   ]
  },
  {
   "cell_type": "code",
   "execution_count": 5,
   "metadata": {},
   "outputs": [
    {
     "name": "stdout",
     "output_type": "stream",
     "text": [
      "         Date      Open      High       Low     Close  Adj Close   Volume\n",
      "0  1990-01-02  23.68750  24.53125  23.62500  24.50000   6.590755  7041600\n",
      "1  1990-01-03  24.68750  24.87500  24.59375  24.71875   6.649599  9464000\n",
      "2  1990-01-04  24.75000  25.09375  24.71875  25.00000   6.725261  9674800\n",
      "3  1990-01-05  24.96875  25.40625  24.87500  24.93750   6.708448  7570000\n",
      "4  1990-01-08  24.81250  25.21875  24.81250  25.09375   6.750481  4625200\n"
     ]
    },
    {
     "data": {
      "text/html": [
       "<div>\n",
       "<style scoped>\n",
       "    .dataframe tbody tr th:only-of-type {\n",
       "        vertical-align: middle;\n",
       "    }\n",
       "\n",
       "    .dataframe tbody tr th {\n",
       "        vertical-align: top;\n",
       "    }\n",
       "\n",
       "    .dataframe thead th {\n",
       "        text-align: right;\n",
       "    }\n",
       "</style>\n",
       "<table border=\"1\" class=\"dataframe\">\n",
       "  <thead>\n",
       "    <tr style=\"text-align: right;\">\n",
       "      <th></th>\n",
       "      <th>Open</th>\n",
       "      <th>High</th>\n",
       "      <th>Low</th>\n",
       "      <th>Close</th>\n",
       "      <th>Adj Close</th>\n",
       "      <th>Volume</th>\n",
       "    </tr>\n",
       "  </thead>\n",
       "  <tbody>\n",
       "    <tr>\n",
       "      <th>0</th>\n",
       "      <td>23.68750</td>\n",
       "      <td>24.53125</td>\n",
       "      <td>23.62500</td>\n",
       "      <td>24.50000</td>\n",
       "      <td>6.590755</td>\n",
       "      <td>7041600</td>\n",
       "    </tr>\n",
       "    <tr>\n",
       "      <th>1</th>\n",
       "      <td>24.68750</td>\n",
       "      <td>24.87500</td>\n",
       "      <td>24.59375</td>\n",
       "      <td>24.71875</td>\n",
       "      <td>6.649599</td>\n",
       "      <td>9464000</td>\n",
       "    </tr>\n",
       "    <tr>\n",
       "      <th>2</th>\n",
       "      <td>24.75000</td>\n",
       "      <td>25.09375</td>\n",
       "      <td>24.71875</td>\n",
       "      <td>25.00000</td>\n",
       "      <td>6.725261</td>\n",
       "      <td>9674800</td>\n",
       "    </tr>\n",
       "    <tr>\n",
       "      <th>3</th>\n",
       "      <td>24.96875</td>\n",
       "      <td>25.40625</td>\n",
       "      <td>24.87500</td>\n",
       "      <td>24.93750</td>\n",
       "      <td>6.708448</td>\n",
       "      <td>7570000</td>\n",
       "    </tr>\n",
       "    <tr>\n",
       "      <th>4</th>\n",
       "      <td>24.81250</td>\n",
       "      <td>25.21875</td>\n",
       "      <td>24.81250</td>\n",
       "      <td>25.09375</td>\n",
       "      <td>6.750481</td>\n",
       "      <td>4625200</td>\n",
       "    </tr>\n",
       "  </tbody>\n",
       "</table>\n",
       "</div>"
      ],
      "text/plain": [
       "       Open      High       Low     Close  Adj Close   Volume\n",
       "0  23.68750  24.53125  23.62500  24.50000   6.590755  7041600\n",
       "1  24.68750  24.87500  24.59375  24.71875   6.649599  9464000\n",
       "2  24.75000  25.09375  24.71875  25.00000   6.725261  9674800\n",
       "3  24.96875  25.40625  24.87500  24.93750   6.708448  7570000\n",
       "4  24.81250  25.21875  24.81250  25.09375   6.750481  4625200"
      ]
     },
     "execution_count": 5,
     "metadata": {},
     "output_type": "execute_result"
    }
   ],
   "source": [
    "#显示数据集的前几行，查看样式\n",
    "print(data.head())\n",
    "all_data = data.iloc[:, 1:7]\n",
    "all_data.head()"
   ]
  },
  {
   "cell_type": "code",
   "execution_count": 6,
   "metadata": {},
   "outputs": [],
   "source": [
    "all_data = all_data.loc[:,['Open', 'Close', \"High\", \"Low\", \"Volume\", \"Adj Close\"]]"
   ]
  },
  {
   "cell_type": "code",
   "execution_count": 7,
   "metadata": {},
   "outputs": [
    {
     "name": "stdout",
     "output_type": "stream",
     "text": [
      "<class 'pandas.core.frame.DataFrame'>\n",
      "RangeIndex: 7278 entries, 0 to 7277\n",
      "Data columns (total 6 columns):\n",
      " #   Column     Non-Null Count  Dtype  \n",
      "---  ------     --------------  -----  \n",
      " 0   Open       7278 non-null   float64\n",
      " 1   Close      7278 non-null   float64\n",
      " 2   High       7278 non-null   float64\n",
      " 3   Low        7278 non-null   float64\n",
      " 4   Volume     7278 non-null   int64  \n",
      " 5   Adj Close  7278 non-null   float64\n",
      "dtypes: float64(5), int64(1)\n",
      "memory usage: 341.3 KB\n"
     ]
    }
   ],
   "source": [
    "all_data.info()"
   ]
  },
  {
   "cell_type": "code",
   "execution_count": 8,
   "metadata": {},
   "outputs": [
    {
     "data": {
      "text/html": [
       "<div>\n",
       "<style scoped>\n",
       "    .dataframe tbody tr th:only-of-type {\n",
       "        vertical-align: middle;\n",
       "    }\n",
       "\n",
       "    .dataframe tbody tr th {\n",
       "        vertical-align: top;\n",
       "    }\n",
       "\n",
       "    .dataframe thead th {\n",
       "        text-align: right;\n",
       "    }\n",
       "</style>\n",
       "<table border=\"1\" class=\"dataframe\">\n",
       "  <thead>\n",
       "    <tr style=\"text-align: right;\">\n",
       "      <th></th>\n",
       "      <th>Open</th>\n",
       "      <th>Close</th>\n",
       "      <th>High</th>\n",
       "      <th>Low</th>\n",
       "      <th>Volume</th>\n",
       "      <th>Adj Close</th>\n",
       "    </tr>\n",
       "  </thead>\n",
       "  <tbody>\n",
       "    <tr>\n",
       "      <th>count</th>\n",
       "      <td>7278.000000</td>\n",
       "      <td>7278.000000</td>\n",
       "      <td>7278.000000</td>\n",
       "      <td>7278.000000</td>\n",
       "      <td>7.278000e+03</td>\n",
       "      <td>7278.000000</td>\n",
       "    </tr>\n",
       "    <tr>\n",
       "      <th>mean</th>\n",
       "      <td>97.111166</td>\n",
       "      <td>97.150037</td>\n",
       "      <td>98.032100</td>\n",
       "      <td>96.250604</td>\n",
       "      <td>7.374148e+06</td>\n",
       "      <td>75.033509</td>\n",
       "    </tr>\n",
       "    <tr>\n",
       "      <th>std</th>\n",
       "      <td>56.722461</td>\n",
       "      <td>56.748006</td>\n",
       "      <td>57.089386</td>\n",
       "      <td>56.386388</td>\n",
       "      <td>4.612416e+06</td>\n",
       "      <td>51.126516</td>\n",
       "    </tr>\n",
       "    <tr>\n",
       "      <th>min</th>\n",
       "      <td>10.250000</td>\n",
       "      <td>10.250000</td>\n",
       "      <td>10.437500</td>\n",
       "      <td>10.156250</td>\n",
       "      <td>6.528000e+05</td>\n",
       "      <td>5.663548</td>\n",
       "    </tr>\n",
       "    <tr>\n",
       "      <th>25%</th>\n",
       "      <td>38.812500</td>\n",
       "      <td>38.937500</td>\n",
       "      <td>39.593750</td>\n",
       "      <td>38.414062</td>\n",
       "      <td>4.477975e+06</td>\n",
       "      <td>25.615211</td>\n",
       "    </tr>\n",
       "    <tr>\n",
       "      <th>50%</th>\n",
       "      <td>94.642502</td>\n",
       "      <td>94.584999</td>\n",
       "      <td>95.606251</td>\n",
       "      <td>93.555001</td>\n",
       "      <td>6.245800e+06</td>\n",
       "      <td>67.877994</td>\n",
       "    </tr>\n",
       "    <tr>\n",
       "      <th>75%</th>\n",
       "      <td>144.217502</td>\n",
       "      <td>144.120003</td>\n",
       "      <td>145.000000</td>\n",
       "      <td>143.114997</td>\n",
       "      <td>8.843625e+06</td>\n",
       "      <td>126.280022</td>\n",
       "    </tr>\n",
       "    <tr>\n",
       "      <th>max</th>\n",
       "      <td>215.380005</td>\n",
       "      <td>215.800003</td>\n",
       "      <td>215.899994</td>\n",
       "      <td>214.300003</td>\n",
       "      <td>6.944470e+07</td>\n",
       "      <td>175.264389</td>\n",
       "    </tr>\n",
       "  </tbody>\n",
       "</table>\n",
       "</div>"
      ],
      "text/plain": [
       "              Open        Close         High          Low        Volume  \\\n",
       "count  7278.000000  7278.000000  7278.000000  7278.000000  7.278000e+03   \n",
       "mean     97.111166    97.150037    98.032100    96.250604  7.374148e+06   \n",
       "std      56.722461    56.748006    57.089386    56.386388  4.612416e+06   \n",
       "min      10.250000    10.250000    10.437500    10.156250  6.528000e+05   \n",
       "25%      38.812500    38.937500    39.593750    38.414062  4.477975e+06   \n",
       "50%      94.642502    94.584999    95.606251    93.555001  6.245800e+06   \n",
       "75%     144.217502   144.120003   145.000000   143.114997  8.843625e+06   \n",
       "max     215.380005   215.800003   215.899994   214.300003  6.944470e+07   \n",
       "\n",
       "         Adj Close  \n",
       "count  7278.000000  \n",
       "mean     75.033509  \n",
       "std      51.126516  \n",
       "min       5.663548  \n",
       "25%      25.615211  \n",
       "50%      67.877994  \n",
       "75%     126.280022  \n",
       "max     175.264389  "
      ]
     },
     "execution_count": 8,
     "metadata": {},
     "output_type": "execute_result"
    }
   ],
   "source": [
    "all_data.describe()"
   ]
  },
  {
   "cell_type": "code",
   "execution_count": 8,
   "metadata": {},
   "outputs": [
    {
     "data": {
      "image/png": "[encoded data removed]",
      "text/plain": [
       "<Figure size 1440x1080 with 6 Axes>"
      ]
     },
     "metadata": {
      "needs_background": "light"
     },
     "output_type": "display_data"
    }
   ],
   "source": [
    "all_data.hist(bins = 50 , figsize = (20, 15))\n",
    "plt.show()"
   ]
  },
  {
   "cell_type": "code",
   "execution_count": 9,
   "metadata": {},
   "outputs": [
    {
     "name": "stdout",
     "output_type": "stream",
     "text": [
      "[[0.06550724 0.0693262  0.06859524 0.06597679 0.0928714  0.005467  ]\n",
      " [0.07038219 0.07039041 0.0702683  0.07072222 0.12808485 0.00581395]\n",
      " [0.07068688 0.0717587  0.07133297 0.07133454 0.13114916 0.00626007]\n",
      " ...\n",
      " [0.54082776 0.53801992 0.54419908 0.53758075 0.04988378 0.67910305]\n",
      " [0.54043776 0.53490633 0.54264162 0.53694392 0.05973814 0.67532949]\n",
      " [0.53336909 0.54093895 0.54025676 0.53567033 0.06621564 0.6826408 ]]\n",
      "训练数据长度是: 7278\n"
     ]
    }
   ],
   "source": [
    "# Feature Scaling特征归一化，归一化很重要，消除量纲的差异。\n",
    "from sklearn.preprocessing import MinMaxScaler\n",
    "sc = MinMaxScaler(feature_range = (0, 1),)\n",
    "all_data_scaled = sc.fit_transform(all_data)\n",
    "print(all_data_scaled)\n",
    "print('训练数据长度是:',len(all_data_scaled))"
   ]
  },
  {
   "cell_type": "code",
   "execution_count": 10,
   "metadata": {},
   "outputs": [
    {
     "name": "stdout",
     "output_type": "stream",
     "text": [
      "(7218, 60, 6)\n",
      "(7218, 60, 6)\n",
      "shape of x_train: (6550, 60, 6)\n",
      "shape of x_val: (364, 60, 6)\n",
      "shape of x_test: (304, 60, 6)\n",
      "shape of y_train: (6550,)\n",
      "shape of y_val: (364,)\n",
      "shape of y_test: (304,)\n",
      "[0.07890416 0.07905619 0.07920822 ... 0.67063977 0.65750422 0.66990997]\n"
     ]
    },
    {
     "data": {
      "text/plain": [
       "array([0.07708526, 0.07890416, 0.07802519, 0.07730459, 0.07517746,\n",
       "       0.01076212])"
      ]
     },
     "execution_count": 10,
     "metadata": {},
     "output_type": "execute_result"
    }
   ],
   "source": [
    "# 设置循环核时间步timestep为60。\n",
    "features = []\n",
    "labels = []\n",
    "for i in range(60, len(all_data_scaled)):\n",
    "    features.append(all_data_scaled[i-60:i, ])\n",
    "    labels.append(all_data_scaled[i, 1])\n",
    "features, labels = np.array(features), np.array(labels)\n",
    "print(features.shape)\n",
    "features = np.reshape(features, (features.shape[0], features.shape[1], -1))\n",
    "print(features.shape)\n",
    "x_train,x_val,x_test,y_train,y_val,y_test= features[:6550],features[6550 :6914 ],features[6914:],labels[:6550],labels[6550 :6914],labels[6914:]\n",
    "print('shape of x_train:',x_train.shape)\n",
    "print('shape of x_val:',x_val.shape)\n",
    "print('shape of x_test:',x_test.shape)\n",
    "print('shape of y_train:',y_train.shape)\n",
    "print('shape of y_val:',y_val.shape)\n",
    "print('shape of y_test:',y_test.shape)\n",
    "\n",
    "print(y_train)\n",
    "all_data_scaled[60]"
   ]
  },
  {
   "cell_type": "code",
   "execution_count": 11,
   "metadata": {},
   "outputs": [],
   "source": [
    "# Part 2 - Building the LSTM\n",
    "# Importing the Keras libraries and packages\n",
    "import warnings\n",
    "warnings.filterwarnings(\"ignore\")\n",
    "import keras \n",
    "from sklearn.model_selection import train_test_split\n",
    "from keras.models import Sequential\n",
    "from keras.layers import Dense\n",
    "from keras.layers import LSTM\n",
    "from keras.layers import Dropout\n",
    "# Initialising the RNN\n",
    "regressor = Sequential()\n",
    "# Adding the first LSTM layer and some Dropout regularisation\n",
    "regressor.add(LSTM(units = 50, return_sequences = True, input_shape = (x_train.shape[1], 6))) #输入特征的维数\n",
    "regressor.add(Dropout(0.2))\n",
    "# Adding a second LSTM layer and some Dropout regularisation\n",
    "regressor.add(LSTM(units = 50, return_sequences = True))\n",
    "regressor.add(Dropout(0.2))\n",
    "# Adding a third LSTM layer and some Dropout regularisation\n",
    "regressor.add(LSTM(units = 50, return_sequences = True))\n",
    "regressor.add(Dropout(0.2))\n",
    "# Adding a fourth LSTM layer and some Dropout regularisation\n",
    "regressor.add(LSTM(units = 50))\n",
    "regressor.add(Dropout(0.2))\n",
    "# Adding the output layer\n",
    "regressor.add(Dense(units = 1))"
   ]
  },
  {
   "cell_type": "code",
   "execution_count": 12,
   "metadata": {},
   "outputs": [],
   "source": [
    "#编译训练模型重点#\n",
    "#编译训练模型重点#\n",
    "#编译训练模型重点#\n",
    "# Compiling the RNN\n",
    "regressor.compile(optimizer = 'adam', loss = 'mean_squared_error')"
   ]
  },
  {
   "cell_type": "code",
   "execution_count": 13,
   "metadata": {},
   "outputs": [
    {
     "name": "stdout",
     "output_type": "stream",
     "text": [
      "Model: \"sequential\"\n",
      "_________________________________________________________________\n",
      " Layer (type)                Output Shape              Param #   \n",
      "=================================================================\n",
      " lstm (LSTM)                 (None, 60, 50)            11400     \n",
      "                                                                 \n",
      " dropout (Dropout)           (None, 60, 50)            0         \n",
      "                                                                 \n",
      " lstm_1 (LSTM)               (None, 60, 50)            20200     \n",
      "                                                                 \n",
      " dropout_1 (Dropout)         (None, 60, 50)            0         \n",
      "                                                                 \n",
      " lstm_2 (LSTM)               (None, 60, 50)            20200     \n",
      "                                                                 \n",
      " dropout_2 (Dropout)         (None, 60, 50)            0         \n",
      "                                                                 \n",
      " lstm_3 (LSTM)               (None, 50)                20200     \n",
      "                                                                 \n",
      " dropout_3 (Dropout)         (None, 50)                0         \n",
      "                                                                 \n",
      " dense (Dense)               (None, 1)                 51        \n",
      "                                                                 \n",
      "=================================================================\n",
      "Total params: 72,051\n",
      "Trainable params: 72,051\n",
      "Non-trainable params: 0\n",
      "_________________________________________________________________\n",
      "None\n"
     ]
    }
   ],
   "source": [
    "print(regressor.summary()) # Summarize Model 模型可视化"
   ]
  },
  {
   "cell_type": "code",
   "execution_count": 14,
   "metadata": {},
   "outputs": [
    {
     "name": "stdout",
     "output_type": "stream",
     "text": [
      "           OPERATION           DATA DIMENSIONS   WEIGHTS(N)   WEIGHTS(%)\n",
      "\n",
      "               Input   #####     60    6\n",
      "                LSTM   LLLLL -------------------     11400    15.8%\n",
      "                tanh   #####     60   50\n",
      "             Dropout    | || -------------------         0     0.0%\n",
      "                       #####     60   50\n",
      "                LSTM   LLLLL -------------------     20200    28.0%\n",
      "                tanh   #####     60   50\n",
      "             Dropout    | || -------------------         0     0.0%\n",
      "                       #####     60   50\n",
      "                LSTM   LLLLL -------------------     20200    28.0%\n",
      "                tanh   #####     60   50\n",
      "             Dropout    | || -------------------         0     0.0%\n",
      "                       #####     60   50\n",
      "                LSTM   LLLLL -------------------     20200    28.0%\n",
      "                tanh   #####          50\n",
      "             Dropout    | || -------------------         0     0.0%\n",
      "                       #####          50\n",
      "               Dense   XXXXX -------------------        51     0.1%\n",
      "                       #####           1\n"
     ]
    }
   ],
   "source": [
    "from keras_sequential_ascii import keras2ascii\n",
    "keras2ascii(regressor)"
   ]
  },
  {
   "cell_type": "code",
   "execution_count": 18,
   "metadata": {},
   "outputs": [],
   "source": [
    "# import keras #回调函数\n",
    "# class LossHistory(keras.callbacks.Callback):\n",
    "#     def on_train_begin(self, logs={}):\n",
    "#         self.losses = {'batch':[], 'epoch':[]}\n",
    "#         self.accuracy = {'batch':[], 'epoch':[]}\n",
    "#         self.val_loss = {'batch':[], 'epoch':[]}\n",
    "#         self.val_acc = {'batch':[], 'epoch':[]}\n",
    "\n",
    "#     def on_batch_end(self, batch, logs={}):\n",
    "#         self.losses['batch'].append(logs.get('loss'))\n",
    "#         self.accuracy['batch'].append(logs.get('acc'))\n",
    "#         self.val_loss['batch'].append(logs.get('val_loss'))\n",
    "#         self.val_acc['batch'].append(logs.get('val_acc'))\n",
    "\n",
    "#     def on_epoch_end(self, batch, logs={}):\n",
    "#         self.losses['epoch'].append(logs.get('loss'))\n",
    "#         self.accuracy['epoch'].append(logs.get('acc'))\n",
    "#         self.val_loss['epoch'].append(logs.get('val_loss'))\n",
    "#         self.val_acc['epoch'].append(logs.get('val_acc'))\n",
    "\n",
    "#     def loss_plot(self, loss_type):\n",
    "#         iters = range(len(self.losses[loss_type]))\n",
    "#         plt.figure()\n",
    "#         # loss\n",
    "#         plt.plot(iters, self.losses[loss_type], 'g', label='train loss')\n",
    "#         if loss_type == 'epoch':\n",
    "#             # val_loss\n",
    "#             plt.plot(iters, self.val_loss[loss_type], 'k', label='val loss')\n",
    "#         plt.grid(True)\n",
    "#         plt.xlabel(loss_type)\n",
    "#         plt.ylabel('acc-loss')\n",
    "#         plt.legend(loc=\"upper right\")\n",
    "#         plt.show()"
   ]
  },
  {
   "cell_type": "code",
   "execution_count": 14,
   "metadata": {},
   "outputs": [
    {
     "name": "stdout",
     "output_type": "stream",
     "text": [
      "Epoch 1/200\n",
      "205/205 [==============================] - 10s 25ms/step - loss: 0.0063 - val_loss: 0.0026\n",
      "Epoch 2/200\n",
      "205/205 [==============================] - 4s 21ms/step - loss: 0.0025 - val_loss: 8.0776e-04\n",
      "Epoch 3/200\n",
      "205/205 [==============================] - 4s 20ms/step - loss: 0.0024 - val_loss: 0.0011\n",
      "Epoch 4/200\n",
      "205/205 [==============================] - 4s 20ms/step - loss: 0.0021 - val_loss: 0.0015\n",
      "Epoch 5/200\n",
      "205/205 [==============================] - 4s 19ms/step - loss: 0.0019 - val_loss: 0.0029\n",
      "Epoch 6/200\n",
      "205/205 [==============================] - 4s 19ms/step - loss: 0.0020 - val_loss: 0.0015\n",
      "Epoch 7/200\n",
      "205/205 [==============================] - 4s 19ms/step - loss: 0.0016 - val_loss: 0.0018\n",
      "Epoch 8/200\n",
      "205/205 [==============================] - 4s 20ms/step - loss: 0.0015 - val_loss: 3.3087e-04\n",
      "Epoch 9/200\n",
      "205/205 [==============================] - 4s 20ms/step - loss: 0.0015 - val_loss: 4.3756e-04\n",
      "Epoch 10/200\n",
      "205/205 [==============================] - 4s 20ms/step - loss: 0.0014 - val_loss: 3.2914e-04\n",
      "Epoch 11/200\n",
      "205/205 [==============================] - 4s 20ms/step - loss: 0.0013 - val_loss: 6.1592e-04\n",
      "Epoch 12/200\n",
      "205/205 [==============================] - 4s 20ms/step - loss: 0.0012 - val_loss: 3.0599e-04\n",
      "Epoch 13/200\n",
      "205/205 [==============================] - 4s 20ms/step - loss: 0.0012 - val_loss: 6.8249e-04\n",
      "Epoch 14/200\n",
      "205/205 [==============================] - 4s 20ms/step - loss: 0.0011 - val_loss: 2.5202e-04\n",
      "Epoch 15/200\n",
      "205/205 [==============================] - 4s 21ms/step - loss: 0.0011 - val_loss: 3.5559e-04\n",
      "Epoch 16/200\n",
      "205/205 [==============================] - 4s 21ms/step - loss: 0.0011 - val_loss: 0.0012\n",
      "Epoch 17/200\n",
      "205/205 [==============================] - 4s 20ms/step - loss: 0.0011 - val_loss: 2.1730e-04\n",
      "Epoch 18/200\n",
      "205/205 [==============================] - 4s 19ms/step - loss: 0.0010 - val_loss: 0.0014\n",
      "Epoch 19/200\n",
      "205/205 [==============================] - 4s 20ms/step - loss: 9.9661e-04 - val_loss: 2.5510e-04\n",
      "Epoch 20/200\n",
      "205/205 [==============================] - 4s 20ms/step - loss: 9.8482e-04 - val_loss: 2.0782e-04\n",
      "Epoch 21/200\n",
      "205/205 [==============================] - 4s 19ms/step - loss: 9.6022e-04 - val_loss: 9.3019e-04\n",
      "Epoch 22/200\n",
      "205/205 [==============================] - 4s 19ms/step - loss: 8.9735e-04 - val_loss: 6.4855e-04\n",
      "Epoch 23/200\n",
      "205/205 [==============================] - 4s 20ms/step - loss: 8.8079e-04 - val_loss: 2.0968e-04\n",
      "Epoch 24/200\n",
      "205/205 [==============================] - 4s 20ms/step - loss: 9.5288e-04 - val_loss: 1.9441e-04\n",
      "Epoch 25/200\n",
      "205/205 [==============================] - 4s 20ms/step - loss: 9.3715e-04 - val_loss: 0.0023\n",
      "Epoch 26/200\n",
      "205/205 [==============================] - 4s 20ms/step - loss: 8.7236e-04 - val_loss: 7.9101e-04\n",
      "Epoch 27/200\n",
      "205/205 [==============================] - 4s 20ms/step - loss: 8.8305e-04 - val_loss: 4.0661e-04\n",
      "Epoch 28/200\n",
      "205/205 [==============================] - 4s 20ms/step - loss: 7.4947e-04 - val_loss: 1.7077e-04\n",
      "Epoch 29/200\n",
      "205/205 [==============================] - 4s 20ms/step - loss: 8.7341e-04 - val_loss: 1.5201e-04\n",
      "Epoch 30/200\n",
      "205/205 [==============================] - 4s 21ms/step - loss: 8.5295e-04 - val_loss: 4.7629e-04\n",
      "Epoch 31/200\n",
      "205/205 [==============================] - 4s 21ms/step - loss: 7.9400e-04 - val_loss: 1.5157e-04\n",
      "Epoch 32/200\n",
      "205/205 [==============================] - 4s 21ms/step - loss: 7.9264e-04 - val_loss: 4.6585e-04\n",
      "Epoch 33/200\n",
      "205/205 [==============================] - 4s 21ms/step - loss: 8.0655e-04 - val_loss: 2.6282e-04\n",
      "Epoch 34/200\n",
      "205/205 [==============================] - 4s 21ms/step - loss: 8.3980e-04 - val_loss: 8.3859e-04\n",
      "Epoch 35/200\n",
      "205/205 [==============================] - 4s 20ms/step - loss: 8.4074e-04 - val_loss: 3.9923e-04\n",
      "Epoch 36/200\n",
      "205/205 [==============================] - 4s 20ms/step - loss: 7.2407e-04 - val_loss: 2.0785e-04\n",
      "Epoch 37/200\n",
      "205/205 [==============================] - 4s 21ms/step - loss: 7.8279e-04 - val_loss: 2.8678e-04\n",
      "Epoch 38/200\n",
      "205/205 [==============================] - 4s 21ms/step - loss: 7.6595e-04 - val_loss: 1.0561e-04\n",
      "Epoch 39/200\n",
      "205/205 [==============================] - 4s 22ms/step - loss: 7.5897e-04 - val_loss: 2.2398e-04\n",
      "Epoch 40/200\n",
      "205/205 [==============================] - 4s 20ms/step - loss: 7.3898e-04 - val_loss: 1.5138e-04\n",
      "Epoch 41/200\n",
      "205/205 [==============================] - 4s 20ms/step - loss: 6.9584e-04 - val_loss: 2.8600e-04\n",
      "Epoch 42/200\n",
      "205/205 [==============================] - 4s 20ms/step - loss: 7.0096e-04 - val_loss: 1.9697e-04\n",
      "Epoch 43/200\n",
      "205/205 [==============================] - 4s 20ms/step - loss: 6.7537e-04 - val_loss: 1.4193e-04\n",
      "Epoch 44/200\n",
      "205/205 [==============================] - 4s 21ms/step - loss: 7.0340e-04 - val_loss: 1.1220e-04\n",
      "Epoch 45/200\n",
      "205/205 [==============================] - 4s 21ms/step - loss: 7.1457e-04 - val_loss: 9.3228e-05\n",
      "Epoch 46/200\n",
      "205/205 [==============================] - 4s 20ms/step - loss: 6.8995e-04 - val_loss: 1.6571e-04\n",
      "Epoch 47/200\n",
      "205/205 [==============================] - 4s 20ms/step - loss: 7.0724e-04 - val_loss: 3.7120e-04\n",
      "Epoch 48/200\n",
      "205/205 [==============================] - 4s 21ms/step - loss: 7.0394e-04 - val_loss: 3.0048e-04\n",
      "Epoch 49/200\n",
      "205/205 [==============================] - 4s 20ms/step - loss: 7.1715e-04 - val_loss: 2.6713e-04\n",
      "Epoch 50/200\n",
      "205/205 [==============================] - 4s 20ms/step - loss: 7.1513e-04 - val_loss: 1.9163e-04\n",
      "Epoch 51/200\n",
      "205/205 [==============================] - 4s 21ms/step - loss: 6.9038e-04 - val_loss: 9.3450e-04\n",
      "Epoch 52/200\n",
      "205/205 [==============================] - 4s 20ms/step - loss: 6.7258e-04 - val_loss: 1.7388e-04\n",
      "Epoch 53/200\n",
      "205/205 [==============================] - 4s 21ms/step - loss: 6.8701e-04 - val_loss: 4.2080e-04\n",
      "Epoch 54/200\n",
      "205/205 [==============================] - 4s 20ms/step - loss: 7.6232e-04 - val_loss: 1.5077e-04\n",
      "Epoch 55/200\n",
      "205/205 [==============================] - 4s 20ms/step - loss: 6.7085e-04 - val_loss: 1.0562e-04\n",
      "Epoch 56/200\n",
      "205/205 [==============================] - 4s 20ms/step - loss: 6.6160e-04 - val_loss: 1.1269e-04\n",
      "Epoch 57/200\n",
      "205/205 [==============================] - 4s 20ms/step - loss: 6.8681e-04 - val_loss: 8.7047e-05\n",
      "Epoch 58/200\n",
      "205/205 [==============================] - 4s 21ms/step - loss: 6.8017e-04 - val_loss: 5.0714e-04\n",
      "Epoch 59/200\n",
      "205/205 [==============================] - 4s 20ms/step - loss: 6.5942e-04 - val_loss: 1.9968e-04\n",
      "Epoch 60/200\n",
      "205/205 [==============================] - 4s 21ms/step - loss: 6.3004e-04 - val_loss: 1.5480e-04\n",
      "Epoch 61/200\n",
      "205/205 [==============================] - 4s 20ms/step - loss: 6.5491e-04 - val_loss: 1.1595e-04\n",
      "Epoch 62/200\n",
      "205/205 [==============================] - 4s 21ms/step - loss: 6.3837e-04 - val_loss: 2.4746e-04\n",
      "Epoch 63/200\n",
      "205/205 [==============================] - 4s 20ms/step - loss: 6.2622e-04 - val_loss: 9.6787e-05\n",
      "Epoch 64/200\n",
      "205/205 [==============================] - 4s 20ms/step - loss: 6.6255e-04 - val_loss: 1.7631e-04\n",
      "Epoch 65/200\n",
      "205/205 [==============================] - 4s 20ms/step - loss: 6.6939e-04 - val_loss: 2.4695e-04\n",
      "Epoch 66/200\n",
      "205/205 [==============================] - 4s 20ms/step - loss: 6.5069e-04 - val_loss: 2.6159e-04\n",
      "Epoch 67/200\n",
      "205/205 [==============================] - 4s 20ms/step - loss: 6.4495e-04 - val_loss: 9.4920e-05\n",
      "Epoch 68/200\n",
      "205/205 [==============================] - 4s 21ms/step - loss: 5.8139e-04 - val_loss: 2.5747e-04\n",
      "Epoch 69/200\n",
      "205/205 [==============================] - 4s 20ms/step - loss: 6.8203e-04 - val_loss: 1.8700e-04\n",
      "Epoch 70/200\n",
      "205/205 [==============================] - 4s 20ms/step - loss: 6.2665e-04 - val_loss: 8.2487e-05\n",
      "Epoch 71/200\n",
      "205/205 [==============================] - 4s 19ms/step - loss: 6.7906e-04 - val_loss: 7.7572e-05\n",
      "Epoch 72/200\n",
      "205/205 [==============================] - 4s 20ms/step - loss: 6.5817e-04 - val_loss: 8.9897e-05\n",
      "Epoch 73/200\n",
      "205/205 [==============================] - 4s 21ms/step - loss: 6.3059e-04 - val_loss: 7.8515e-05\n",
      "Epoch 74/200\n",
      "205/205 [==============================] - 4s 20ms/step - loss: 6.4895e-04 - val_loss: 8.7274e-05\n",
      "Epoch 75/200\n",
      "205/205 [==============================] - 4s 20ms/step - loss: 6.3709e-04 - val_loss: 1.6085e-04\n",
      "Epoch 76/200\n",
      "205/205 [==============================] - 4s 20ms/step - loss: 6.3422e-04 - val_loss: 1.3314e-04\n",
      "Epoch 77/200\n",
      "205/205 [==============================] - 4s 21ms/step - loss: 6.1266e-04 - val_loss: 7.0545e-05\n",
      "Epoch 78/200\n",
      "205/205 [==============================] - 4s 20ms/step - loss: 6.4529e-04 - val_loss: 2.7437e-04\n",
      "Epoch 79/200\n",
      "205/205 [==============================] - 4s 19ms/step - loss: 6.2536e-04 - val_loss: 6.6268e-05\n",
      "Epoch 80/200\n",
      "205/205 [==============================] - 4s 21ms/step - loss: 6.5084e-04 - val_loss: 6.6249e-05\n",
      "Epoch 81/200\n",
      "205/205 [==============================] - 4s 20ms/step - loss: 5.7153e-04 - val_loss: 6.5015e-05\n",
      "Epoch 82/200\n",
      "205/205 [==============================] - 4s 20ms/step - loss: 5.8046e-04 - val_loss: 4.6014e-04\n",
      "Epoch 83/200\n",
      "205/205 [==============================] - 4s 21ms/step - loss: 6.1200e-04 - val_loss: 1.4703e-04\n",
      "Epoch 84/200\n",
      "205/205 [==============================] - 4s 20ms/step - loss: 6.2437e-04 - val_loss: 1.7941e-04\n",
      "Epoch 85/200\n",
      "205/205 [==============================] - 4s 20ms/step - loss: 5.7835e-04 - val_loss: 1.4291e-04\n",
      "Epoch 86/200\n",
      "205/205 [==============================] - 4s 20ms/step - loss: 6.3657e-04 - val_loss: 2.0871e-04\n",
      "Epoch 87/200\n",
      "205/205 [==============================] - 4s 21ms/step - loss: 6.2751e-04 - val_loss: 7.4995e-05\n",
      "Epoch 88/200\n",
      "205/205 [==============================] - 4s 21ms/step - loss: 5.9594e-04 - val_loss: 8.7750e-05\n",
      "Epoch 89/200\n",
      "205/205 [==============================] - 4s 21ms/step - loss: 5.9430e-04 - val_loss: 2.0340e-04\n",
      "Epoch 90/200\n",
      "205/205 [==============================] - 4s 21ms/step - loss: 6.0313e-04 - val_loss: 7.0509e-05\n",
      "Epoch 91/200\n",
      "205/205 [==============================] - 4s 20ms/step - loss: 6.0947e-04 - val_loss: 2.6409e-04\n",
      "Epoch 92/200\n",
      "205/205 [==============================] - 4s 20ms/step - loss: 6.2777e-04 - val_loss: 3.8667e-04\n",
      "Epoch 93/200\n",
      "205/205 [==============================] - 4s 20ms/step - loss: 5.8057e-04 - val_loss: 7.5227e-05\n",
      "Epoch 94/200\n",
      "205/205 [==============================] - 4s 21ms/step - loss: 6.0092e-04 - val_loss: 7.0888e-05\n",
      "Epoch 95/200\n",
      "205/205 [==============================] - 4s 20ms/step - loss: 5.8831e-04 - val_loss: 6.4463e-05\n",
      "Epoch 96/200\n",
      "205/205 [==============================] - 4s 21ms/step - loss: 5.9874e-04 - val_loss: 2.0602e-04\n",
      "Epoch 97/200\n",
      "205/205 [==============================] - 4s 20ms/step - loss: 6.1110e-04 - val_loss: 2.8775e-04\n",
      "Epoch 98/200\n",
      "205/205 [==============================] - 4s 21ms/step - loss: 5.9646e-04 - val_loss: 6.5072e-05\n",
      "Epoch 99/200\n",
      "205/205 [==============================] - 4s 20ms/step - loss: 5.9990e-04 - val_loss: 6.6466e-05\n",
      "Epoch 100/200\n",
      "205/205 [==============================] - 4s 20ms/step - loss: 5.9575e-04 - val_loss: 9.9967e-05\n",
      "Epoch 101/200\n",
      "205/205 [==============================] - 4s 21ms/step - loss: 5.8429e-04 - val_loss: 1.3844e-04\n",
      "Epoch 102/200\n",
      "205/205 [==============================] - 4s 22ms/step - loss: 5.9546e-04 - val_loss: 6.5964e-05\n",
      "Epoch 103/200\n",
      "205/205 [==============================] - 4s 21ms/step - loss: 5.9079e-04 - val_loss: 7.3924e-05\n",
      "Epoch 104/200\n",
      "205/205 [==============================] - 4s 21ms/step - loss: 5.7695e-04 - val_loss: 5.2691e-04\n",
      "Epoch 105/200\n",
      "205/205 [==============================] - 4s 21ms/step - loss: 5.7646e-04 - val_loss: 1.1579e-04\n",
      "Epoch 106/200\n",
      "205/205 [==============================] - 4s 20ms/step - loss: 6.1911e-04 - val_loss: 1.8993e-04\n",
      "Epoch 107/200\n",
      "205/205 [==============================] - 4s 20ms/step - loss: 5.7363e-04 - val_loss: 7.2161e-05\n",
      "Epoch 108/200\n",
      "205/205 [==============================] - 4s 20ms/step - loss: 5.5931e-04 - val_loss: 8.5535e-05\n",
      "Epoch 109/200\n",
      "205/205 [==============================] - 4s 21ms/step - loss: 5.7521e-04 - val_loss: 1.5640e-04\n",
      "Epoch 110/200\n",
      "205/205 [==============================] - 4s 20ms/step - loss: 6.0201e-04 - val_loss: 8.6940e-05\n",
      "Epoch 111/200\n",
      "205/205 [==============================] - 4s 20ms/step - loss: 5.9139e-04 - val_loss: 4.8613e-04\n",
      "Epoch 112/200\n",
      "205/205 [==============================] - 4s 20ms/step - loss: 5.9801e-04 - val_loss: 8.1399e-05\n",
      "Epoch 113/200\n",
      "205/205 [==============================] - 4s 21ms/step - loss: 5.9573e-04 - val_loss: 7.9378e-05\n",
      "Epoch 114/200\n",
      "205/205 [==============================] - 4s 21ms/step - loss: 5.6723e-04 - val_loss: 1.8151e-04\n",
      "Epoch 115/200\n",
      "205/205 [==============================] - 4s 20ms/step - loss: 5.6564e-04 - val_loss: 1.4706e-04\n",
      "Epoch 115: early stopping\n"
     ]
    }
   ],
   "source": [
    "# fit to the training set\n",
    "history=regressor.fit(x_train, y_train, epochs=200, batch_size=32,validation_data=(x_val, y_val),callbacks=[mc, earlystop])"
   ]
  },
  {
   "cell_type": "code",
   "execution_count": 22,
   "metadata": {
    "scrolled": true
   },
   "outputs": [
    {
     "data": {
      "image/png": "[encoded data removed]",
      "text/plain": [
       "<Figure size 432x288 with 1 Axes>"
      ]
     },
     "metadata": {
      "needs_background": "light"
     },
     "output_type": "display_data"
    }
   ],
   "source": [
    "#画损失曲线图\n",
    "loss = history.history['loss']\n",
    "val_loss = history.history['val_loss']\n",
    "epochs = range(1, len(loss) + 1)\n",
    "plt.title('LSTM Loss curve')\n",
    "plt.plot(epochs, loss, 'red', label='Training loss')\n",
    "plt.plot(epochs, val_loss, 'blue', label='Validation loss')\n",
    "plt.grid(True)\n",
    "plt.xlabel('epoch')\n",
    "plt.ylabel('loss')\n",
    "plt.legend()\n",
    "plt.show()"
   ]
  },
  {
   "cell_type": "code",
   "execution_count": 23,
   "metadata": {},
   "outputs": [
    {
     "name": "stdout",
     "output_type": "stream",
     "text": [
      "205/205 [==============================] - 3s 11ms/step\n",
      "10/10 [==============================] - 0s 11ms/step\n"
     ]
    }
   ],
   "source": [
    "sc_one = MinMaxScaler(feature_range = (0, 1))\n",
    "sc_one.fit_transform(all_data.iloc[:, 1:2])\n",
    "predicted_stock_train = regressor.predict(x_train)\n",
    "predicted_stock_train = sc_one.inverse_transform(predicted_stock_train)\n",
    "predicted_stock_test = regressor.predict(x_test)\n",
    "predicted_stock_test = sc_one.inverse_transform(predicted_stock_test)\n",
    "real_price_train=sc_one.inverse_transform(np.reshape(y_train,(-1,1)))\n",
    "real_price_test=sc_one.inverse_transform(np.reshape(y_test,(-1,1)))"
   ]
  },
  {
   "cell_type": "code",
   "execution_count": 24,
   "metadata": {},
   "outputs": [
    {
     "data": {
      "image/png": "[encoded data removed]",
      "text/plain": [
       "<Figure size 432x288 with 1 Axes>"
      ]
     },
     "metadata": {
      "needs_background": "light"
     },
     "output_type": "display_data"
    }
   ],
   "source": [
    "# Visualising the test results\n",
    "plt.plot(real_price_train, color = 'red', label = 'Real Stock Price')\n",
    "plt.plot(predicted_stock_train, color = 'blue', label = 'Predicted Stock Price')\n",
    "plt.title('LSTM train Stock Price Prediction')\n",
    "plt.xlabel('Time')\n",
    "plt.ylabel('Stock Price')\n",
    "plt.legend()\n",
    "plt.grid(True)\n",
    "plt.show()"
   ]
  },
  {
   "cell_type": "code",
   "execution_count": 25,
   "metadata": {},
   "outputs": [
    {
     "data": {
      "image/png": "[encoded data removed]",
      "text/plain": [
       "<Figure size 432x288 with 1 Axes>"
      ]
     },
     "metadata": {
      "needs_background": "light"
     },
     "output_type": "display_data"
    }
   ],
   "source": [
    "# Visualising the test results\n",
    "plt.plot(real_price_test, color = 'red', label = 'Real Stock Price')\n",
    "plt.plot(predicted_stock_test, color = 'blue', label = 'Predicted Stock Price')\n",
    "plt.title('LSTM test Stock Price Prediction')\n",
    "plt.xlabel('Time')\n",
    "plt.ylabel('Stock Price')\n",
    "plt.legend()\n",
    "plt.grid(True)\n",
    "plt.show()"
   ]
  },
  {
   "cell_type": "code",
   "execution_count": 26,
   "metadata": {},
   "outputs": [
    {
     "name": "stdout",
     "output_type": "stream",
     "text": [
      "LSTM模型的均方误差是: 9.654063\n",
      "LSTM模型的均方根误差是: 3.107099\n",
      "LSTM模型的平均绝对误差是: 2.518549\n",
      "LSTM模型的R-squared是: 0.885584\n"
     ]
    }
   ],
   "source": [
    "from sklearn.metrics import mean_squared_error, mean_absolute_error, r2_score\n",
    "import math\n",
    "##########evaluate##############\n",
    "# calculate MSE 均方误差 ---> E[(预测值-真实值)^2] (预测值减真实值求平方后求均值)\n",
    "mse = mean_squared_error(predicted_stock_test, real_price_test)\n",
    "# calculate RMSE 均方根误差--->sqrt[MSE]    (对均方误差开方)\n",
    "rmse = math.sqrt( mean_squared_error(predicted_stock_test, real_price_test))\n",
    "# calculate MAE 平均绝对误差----->E[|预测值-真实值|](预测值减真实值求绝对值后求均值）\n",
    "mae = mean_absolute_error(predicted_stock_test, real_price_test)\n",
    "\n",
    "r2=r2_score(predicted_stock_test, real_price_test)\n",
    "\n",
    "print('LSTM模型的均方误差是: %.6f' % mse)\n",
    "print('LSTM模型的均方根误差是: %.6f' % rmse)\n",
    "print('LSTM模型的平均绝对误差是: %.6f' % mae)\n",
    "print('LSTM模型的R-squared是: %.6f' % r2)"
   ]
  },
  {
   "cell_type": "code",
   "execution_count": 25,
   "metadata": {},
   "outputs": [],
   "source": [
    "from keras.layers import Dense, LSTM, Dropout, GRU, Bidirectional"
   ]
  },
  {
   "cell_type": "code",
   "execution_count": 26,
   "metadata": {},
   "outputs": [],
   "source": [
    "#GRU\n",
    "regressorGRU = Sequential()\n",
    "regressorGRU.add(GRU(units=50, return_sequences=True, input_shape=(x_train.shape[1],6)))\n",
    "regressorGRU.add(Dropout(0.2))\n",
    "regressorGRU.add(GRU(units=50, return_sequences=True))\n",
    "regressorGRU.add(Dropout(0.2))\n",
    "regressorGRU.add(GRU(units=50, return_sequences=True))\n",
    "regressorGRU.add(Dropout(0.2))\n",
    "regressorGRU.add(GRU(units=50))\n",
    "regressorGRU.add(Dropout(0.2))\n",
    "regressorGRU.add(Dense(units=1))\n",
    "regressorGRU.compile(optimizer='adam', loss='mean_squared_error')"
   ]
  },
  {
   "cell_type": "code",
   "execution_count": 27,
   "metadata": {},
   "outputs": [
    {
     "name": "stdout",
     "output_type": "stream",
     "text": [
      "Model: \"sequential_1\"\n",
      "_________________________________________________________________\n",
      "Layer (type)                 Output Shape              Param #   \n",
      "=================================================================\n",
      "gru (GRU)                    (None, 60, 50)            8700      \n",
      "_________________________________________________________________\n",
      "dropout_4 (Dropout)          (None, 60, 50)            0         \n",
      "_________________________________________________________________\n",
      "gru_1 (GRU)                  (None, 60, 50)            15300     \n",
      "_________________________________________________________________\n",
      "dropout_5 (Dropout)          (None, 60, 50)            0         \n",
      "_________________________________________________________________\n",
      "gru_2 (GRU)                  (None, 60, 50)            15300     \n",
      "_________________________________________________________________\n",
      "dropout_6 (Dropout)          (None, 60, 50)            0         \n",
      "_________________________________________________________________\n",
      "gru_3 (GRU)                  (None, 50)                15300     \n",
      "_________________________________________________________________\n",
      "dropout_7 (Dropout)          (None, 50)                0         \n",
      "_________________________________________________________________\n",
      "dense_1 (Dense)              (None, 1)                 51        \n",
      "=================================================================\n",
      "Total params: 54,651\n",
      "Trainable params: 54,651\n",
      "Non-trainable params: 0\n",
      "_________________________________________________________________\n",
      "None\n"
     ]
    }
   ],
   "source": [
    "print(regressorGRU.summary()) # Summarize Model 模型可视化"
   ]
  },
  {
   "cell_type": "code",
   "execution_count": 28,
   "metadata": {},
   "outputs": [
    {
     "name": "stdout",
     "output_type": "stream",
     "text": [
      "           OPERATION           DATA DIMENSIONS   WEIGHTS(N)   WEIGHTS(%)\n",
      "\n",
      "               Input   #####     60    6\n",
      "                 GRU   LLLLL -------------------      8700    15.9%\n",
      "                tanh   #####     60   50\n",
      "             Dropout    | || -------------------         0     0.0%\n",
      "                       #####     60   50\n",
      "                 GRU   LLLLL -------------------     15300    28.0%\n",
      "                tanh   #####     60   50\n",
      "             Dropout    | || -------------------         0     0.0%\n",
      "                       #####     60   50\n",
      "                 GRU   LLLLL -------------------     15300    28.0%\n",
      "                tanh   #####     60   50\n",
      "             Dropout    | || -------------------         0     0.0%\n",
      "                       #####     60   50\n",
      "                 GRU   LLLLL -------------------     15300    28.0%\n",
      "                tanh   #####          50\n",
      "             Dropout    | || -------------------         0     0.0%\n",
      "                       #####          50\n",
      "               Dense   XXXXX -------------------        51     0.1%\n",
      "                       #####           1\n"
     ]
    }
   ],
   "source": [
    "from keras_sequential_ascii import keras2ascii\n",
    "keras2ascii(regressorGRU)"
   ]
  },
  {
   "cell_type": "code",
   "execution_count": 29,
   "metadata": {},
   "outputs": [
    {
     "name": "stdout",
     "output_type": "stream",
     "text": [
      "('Failed to import pydot. You must `pip install pydot` and install graphviz (https://graphviz.gitlab.io/download/), ', 'for `pydotprint` to work.')\n"
     ]
    }
   ],
   "source": [
    "from keras.utils import plot_model \n",
    "plot_model(regressorGRU, to_file='model.png', show_shapes=True, show_layer_names=True) # plot my model"
   ]
  },
  {
   "cell_type": "code",
   "execution_count": 30,
   "metadata": {},
   "outputs": [
    {
     "name": "stdout",
     "output_type": "stream",
     "text": [
      "Epoch 1/200\n",
      "205/205 [==============================] - 4s 17ms/step - loss: 0.0081 - val_loss: 0.0058\n",
      "Epoch 2/200\n",
      "205/205 [==============================] - 2s 12ms/step - loss: 0.0027 - val_loss: 0.0017\n",
      "Epoch 3/200\n",
      "205/205 [==============================] - 2s 12ms/step - loss: 0.0023 - val_loss: 0.0019\n",
      "Epoch 4/200\n",
      "205/205 [==============================] - 2s 12ms/step - loss: 0.0020 - val_loss: 9.6750e-04\n",
      "Epoch 5/200\n",
      "205/205 [==============================] - 2s 12ms/step - loss: 0.0018 - val_loss: 5.6850e-04\n",
      "Epoch 6/200\n",
      "205/205 [==============================] - 2s 12ms/step - loss: 0.0018 - val_loss: 6.9000e-04\n",
      "Epoch 7/200\n",
      "205/205 [==============================] - 2s 12ms/step - loss: 0.0015 - val_loss: 0.0020\n",
      "Epoch 8/200\n",
      "205/205 [==============================] - 2s 12ms/step - loss: 0.0015 - val_loss: 4.5999e-04\n",
      "Epoch 9/200\n",
      "205/205 [==============================] - 2s 12ms/step - loss: 0.0015 - val_loss: 0.0011\n",
      "Epoch 10/200\n",
      "205/205 [==============================] - 2s 12ms/step - loss: 0.0014 - val_loss: 2.8973e-04\n",
      "Epoch 11/200\n",
      "205/205 [==============================] - 2s 12ms/step - loss: 0.0013 - val_loss: 2.7215e-04\n",
      "Epoch 12/200\n",
      "205/205 [==============================] - 2s 12ms/step - loss: 0.0012 - val_loss: 2.5342e-04\n",
      "Epoch 13/200\n",
      "205/205 [==============================] - 2s 12ms/step - loss: 0.0012 - val_loss: 6.5113e-04\n",
      "Epoch 14/200\n",
      "205/205 [==============================] - 2s 12ms/step - loss: 0.0011 - val_loss: 2.2446e-04\n",
      "Epoch 15/200\n",
      "205/205 [==============================] - 2s 12ms/step - loss: 0.0011 - val_loss: 2.1347e-04\n",
      "Epoch 16/200\n",
      "205/205 [==============================] - 2s 12ms/step - loss: 0.0011 - val_loss: 3.5704e-04\n",
      "Epoch 17/200\n",
      "205/205 [==============================] - 2s 12ms/step - loss: 0.0011 - val_loss: 1.9838e-04\n",
      "Epoch 18/200\n",
      "205/205 [==============================] - 2s 12ms/step - loss: 0.0011 - val_loss: 6.8904e-04\n",
      "Epoch 19/200\n",
      "205/205 [==============================] - 2s 12ms/step - loss: 0.0010 - val_loss: 2.2515e-04\n",
      "Epoch 20/200\n",
      "205/205 [==============================] - 2s 12ms/step - loss: 0.0010 - val_loss: 3.5558e-04\n",
      "Epoch 21/200\n",
      "205/205 [==============================] - 2s 12ms/step - loss: 9.5765e-04 - val_loss: 9.8916e-04\n",
      "Epoch 22/200\n",
      "205/205 [==============================] - 2s 12ms/step - loss: 8.8794e-04 - val_loss: 0.0013\n",
      "Epoch 23/200\n",
      "205/205 [==============================] - 2s 12ms/step - loss: 8.5645e-04 - val_loss: 4.0360e-04\n",
      "Epoch 24/200\n",
      "205/205 [==============================] - 2s 12ms/step - loss: 9.6583e-04 - val_loss: 1.6094e-04\n",
      "Epoch 25/200\n",
      "205/205 [==============================] - 2s 12ms/step - loss: 8.5509e-04 - val_loss: 6.8316e-04\n",
      "Epoch 26/200\n",
      "205/205 [==============================] - 2s 12ms/step - loss: 8.4324e-04 - val_loss: 1.5201e-04\n",
      "Epoch 27/200\n",
      "205/205 [==============================] - 2s 12ms/step - loss: 8.7388e-04 - val_loss: 3.2417e-04\n",
      "Epoch 28/200\n",
      "205/205 [==============================] - 2s 12ms/step - loss: 7.4018e-04 - val_loss: 1.5843e-04\n",
      "Epoch 29/200\n",
      "205/205 [==============================] - 2s 12ms/step - loss: 8.7352e-04 - val_loss: 1.9829e-04\n",
      "Epoch 30/200\n",
      "205/205 [==============================] - 3s 12ms/step - loss: 8.4110e-04 - val_loss: 3.7893e-04\n",
      "Epoch 31/200\n",
      "205/205 [==============================] - 2s 12ms/step - loss: 7.7561e-04 - val_loss: 2.2890e-04\n",
      "Epoch 32/200\n",
      "205/205 [==============================] - 2s 12ms/step - loss: 7.7063e-04 - val_loss: 0.0011\n",
      "Epoch 33/200\n",
      "205/205 [==============================] - 2s 12ms/step - loss: 7.9293e-04 - val_loss: 7.1650e-04\n",
      "Epoch 34/200\n",
      "205/205 [==============================] - 2s 12ms/step - loss: 7.9619e-04 - val_loss: 0.0010\n",
      "Epoch 35/200\n",
      "205/205 [==============================] - 2s 12ms/step - loss: 7.8198e-04 - val_loss: 1.2607e-04\n",
      "Epoch 36/200\n",
      "205/205 [==============================] - 2s 12ms/step - loss: 6.8178e-04 - val_loss: 2.3488e-04\n",
      "Epoch 37/200\n",
      "205/205 [==============================] - 2s 12ms/step - loss: 7.2131e-04 - val_loss: 2.0728e-04\n",
      "Epoch 38/200\n",
      "205/205 [==============================] - 2s 12ms/step - loss: 7.2766e-04 - val_loss: 2.8303e-04\n",
      "Epoch 39/200\n",
      "205/205 [==============================] - 2s 12ms/step - loss: 7.2173e-04 - val_loss: 5.0983e-04\n",
      "Epoch 40/200\n",
      "205/205 [==============================] - 2s 12ms/step - loss: 7.4776e-04 - val_loss: 1.7682e-04\n",
      "Epoch 41/200\n",
      "205/205 [==============================] - 2s 12ms/step - loss: 6.5887e-04 - val_loss: 1.0659e-04\n",
      "Epoch 42/200\n",
      "205/205 [==============================] - 2s 12ms/step - loss: 6.6443e-04 - val_loss: 1.2831e-04\n",
      "Epoch 43/200\n",
      "205/205 [==============================] - 2s 12ms/step - loss: 6.8058e-04 - val_loss: 1.3813e-04\n",
      "Epoch 44/200\n",
      "205/205 [==============================] - 2s 12ms/step - loss: 6.7284e-04 - val_loss: 9.4730e-05\n",
      "Epoch 45/200\n",
      "205/205 [==============================] - 2s 12ms/step - loss: 6.8415e-04 - val_loss: 1.5988e-04\n",
      "Epoch 46/200\n",
      "205/205 [==============================] - 2s 12ms/step - loss: 6.6853e-04 - val_loss: 1.9587e-04\n",
      "Epoch 47/200\n",
      "205/205 [==============================] - 2s 12ms/step - loss: 6.8796e-04 - val_loss: 2.7968e-04\n",
      "Epoch 48/200\n",
      "205/205 [==============================] - 2s 12ms/step - loss: 6.6041e-04 - val_loss: 3.2285e-04\n",
      "Epoch 49/200\n",
      "205/205 [==============================] - 2s 12ms/step - loss: 6.6483e-04 - val_loss: 2.6404e-04\n",
      "Epoch 50/200\n",
      "205/205 [==============================] - 2s 12ms/step - loss: 6.7070e-04 - val_loss: 1.3025e-04\n",
      "Epoch 51/200\n",
      "205/205 [==============================] - 2s 12ms/step - loss: 6.5271e-04 - val_loss: 7.0231e-04\n",
      "Epoch 52/200\n",
      "205/205 [==============================] - 2s 12ms/step - loss: 6.2701e-04 - val_loss: 1.9781e-04\n",
      "Epoch 53/200\n",
      "205/205 [==============================] - 2s 12ms/step - loss: 6.5449e-04 - val_loss: 4.4114e-04\n",
      "Epoch 54/200\n",
      "205/205 [==============================] - 2s 12ms/step - loss: 7.0876e-04 - val_loss: 1.5016e-04\n",
      "Epoch 55/200\n",
      "205/205 [==============================] - 2s 12ms/step - loss: 6.3343e-04 - val_loss: 8.2781e-05\n",
      "Epoch 56/200\n",
      "205/205 [==============================] - 2s 12ms/step - loss: 6.1234e-04 - val_loss: 7.9054e-05\n",
      "Epoch 57/200\n",
      "205/205 [==============================] - 2s 12ms/step - loss: 6.5946e-04 - val_loss: 1.2336e-04\n",
      "Epoch 58/200\n",
      "205/205 [==============================] - 2s 12ms/step - loss: 6.7027e-04 - val_loss: 8.6502e-04\n",
      "Epoch 59/200\n",
      "205/205 [==============================] - 2s 12ms/step - loss: 6.6310e-04 - val_loss: 2.2967e-04\n",
      "Epoch 60/200\n",
      "205/205 [==============================] - 2s 12ms/step - loss: 5.8727e-04 - val_loss: 9.7409e-05\n",
      "Epoch 61/200\n",
      "205/205 [==============================] - 2s 12ms/step - loss: 6.3557e-04 - val_loss: 3.5476e-04\n",
      "Epoch 62/200\n",
      "205/205 [==============================] - 2s 12ms/step - loss: 5.9721e-04 - val_loss: 3.6308e-04\n",
      "Epoch 63/200\n",
      "205/205 [==============================] - 2s 12ms/step - loss: 6.0054e-04 - val_loss: 8.7246e-05\n",
      "Epoch 64/200\n",
      "205/205 [==============================] - 2s 12ms/step - loss: 6.0824e-04 - val_loss: 2.2475e-04\n",
      "Epoch 65/200\n",
      "205/205 [==============================] - 2s 12ms/step - loss: 6.4451e-04 - val_loss: 2.0399e-04\n",
      "Epoch 66/200\n",
      "205/205 [==============================] - 2s 12ms/step - loss: 6.0302e-04 - val_loss: 2.2666e-04\n",
      "Epoch 67/200\n",
      "205/205 [==============================] - 2s 12ms/step - loss: 6.1833e-04 - val_loss: 1.4251e-04\n",
      "Epoch 68/200\n",
      "205/205 [==============================] - 2s 12ms/step - loss: 5.5724e-04 - val_loss: 1.4934e-04\n",
      "Epoch 69/200\n",
      "205/205 [==============================] - 2s 12ms/step - loss: 6.6101e-04 - val_loss: 1.9176e-04\n",
      "Epoch 70/200\n",
      "205/205 [==============================] - 2s 12ms/step - loss: 6.1237e-04 - val_loss: 7.9645e-05\n",
      "Epoch 71/200\n",
      "205/205 [==============================] - 2s 12ms/step - loss: 6.4089e-04 - val_loss: 1.0064e-04\n",
      "Epoch 72/200\n",
      "205/205 [==============================] - 2s 12ms/step - loss: 6.1733e-04 - val_loss: 1.0222e-04\n",
      "Epoch 73/200\n",
      "205/205 [==============================] - 2s 12ms/step - loss: 5.9432e-04 - val_loss: 6.6968e-05\n",
      "Epoch 74/200\n",
      "205/205 [==============================] - 2s 12ms/step - loss: 6.0924e-04 - val_loss: 7.0657e-05\n",
      "Epoch 75/200\n",
      "205/205 [==============================] - 2s 12ms/step - loss: 5.9478e-04 - val_loss: 8.6356e-05\n"
     ]
    },
    {
     "name": "stdout",
     "output_type": "stream",
     "text": [
      "Epoch 76/200\n",
      "205/205 [==============================] - 2s 12ms/step - loss: 6.0225e-04 - val_loss: 2.1741e-04\n",
      "Epoch 77/200\n",
      "205/205 [==============================] - 2s 12ms/step - loss: 5.8411e-04 - val_loss: 7.0784e-05\n",
      "Epoch 78/200\n",
      "205/205 [==============================] - 2s 12ms/step - loss: 6.1102e-04 - val_loss: 1.8366e-04\n",
      "Epoch 79/200\n",
      "205/205 [==============================] - 2s 12ms/step - loss: 5.8680e-04 - val_loss: 1.2933e-04\n",
      "Epoch 80/200\n",
      "205/205 [==============================] - 2s 12ms/step - loss: 6.1835e-04 - val_loss: 6.6306e-05\n",
      "Epoch 81/200\n",
      "205/205 [==============================] - 2s 12ms/step - loss: 5.5408e-04 - val_loss: 1.3499e-04\n",
      "Epoch 82/200\n",
      "205/205 [==============================] - 2s 12ms/step - loss: 5.5011e-04 - val_loss: 4.4497e-04\n",
      "Epoch 83/200\n",
      "205/205 [==============================] - 2s 12ms/step - loss: 6.0797e-04 - val_loss: 2.6264e-04\n",
      "Epoch 84/200\n",
      "205/205 [==============================] - 2s 12ms/step - loss: 6.0649e-04 - val_loss: 9.4510e-05\n",
      "Epoch 85/200\n",
      "205/205 [==============================] - 2s 12ms/step - loss: 5.6543e-04 - val_loss: 8.5870e-05\n",
      "Epoch 86/200\n",
      "205/205 [==============================] - 2s 12ms/step - loss: 6.1662e-04 - val_loss: 1.8031e-04\n",
      "Epoch 87/200\n",
      "205/205 [==============================] - 2s 12ms/step - loss: 6.1133e-04 - val_loss: 1.0363e-04\n",
      "Epoch 88/200\n",
      "205/205 [==============================] - 2s 12ms/step - loss: 5.6321e-04 - val_loss: 1.2762e-04\n",
      "Epoch 89/200\n",
      "205/205 [==============================] - 2s 12ms/step - loss: 5.7252e-04 - val_loss: 1.7640e-04\n",
      "Epoch 90/200\n",
      "205/205 [==============================] - 2s 12ms/step - loss: 5.8717e-04 - val_loss: 2.0676e-04\n",
      "Epoch 91/200\n",
      "205/205 [==============================] - 2s 12ms/step - loss: 5.8596e-04 - val_loss: 2.8256e-04\n",
      "Epoch 92/200\n",
      "205/205 [==============================] - 2s 12ms/step - loss: 5.9977e-04 - val_loss: 6.0474e-04\n",
      "Epoch 93/200\n",
      "205/205 [==============================] - 2s 12ms/step - loss: 5.5582e-04 - val_loss: 7.7507e-05\n",
      "Epoch 94/200\n",
      "205/205 [==============================] - 2s 12ms/step - loss: 5.6775e-04 - val_loss: 2.0815e-04\n",
      "Epoch 95/200\n",
      "205/205 [==============================] - 2s 12ms/step - loss: 5.7226e-04 - val_loss: 1.4699e-04\n",
      "Epoch 96/200\n",
      "205/205 [==============================] - 2s 12ms/step - loss: 5.8789e-04 - val_loss: 3.8067e-04\n",
      "Epoch 97/200\n",
      "205/205 [==============================] - 2s 12ms/step - loss: 5.9449e-04 - val_loss: 1.1070e-04\n",
      "Epoch 98/200\n",
      "205/205 [==============================] - 2s 12ms/step - loss: 5.7860e-04 - val_loss: 1.9754e-04\n",
      "Epoch 99/200\n",
      "205/205 [==============================] - 2s 12ms/step - loss: 5.8532e-04 - val_loss: 1.1812e-04\n",
      "Epoch 100/200\n",
      "205/205 [==============================] - 2s 12ms/step - loss: 5.7382e-04 - val_loss: 1.0711e-04\n",
      "Epoch 00100: early stopping\n"
     ]
    }
   ],
   "source": [
    "history=regressorGRU.fit(x_train, y_train, epochs=200, batch_size=32,validation_data=(x_val, y_val),callbacks=[mc, earlystop])"
   ]
  },
  {
   "cell_type": "code",
   "execution_count": 31,
   "metadata": {},
   "outputs": [
    {
     "data": {
      "image/png": "[encoded data removed]",
      "text/plain": [
       "<Figure size 432x288 with 1 Axes>"
      ]
     },
     "metadata": {
      "needs_background": "light"
     },
     "output_type": "display_data"
    }
   ],
   "source": [
    "#画损失曲线图\n",
    "loss = history.history['loss']\n",
    "val_loss = history.history['val_loss']\n",
    "epochs = range(1, len(loss) + 1)\n",
    "plt.title('GRU Loss curve')\n",
    "plt.plot(epochs, loss, 'red', label='Training loss')\n",
    "plt.plot(epochs, val_loss, 'blue', label='Validation loss')\n",
    "plt.grid(True)\n",
    "plt.xlabel('epoch')\n",
    "plt.ylabel('loss')\n",
    "plt.legend()\n",
    "plt.show()"
   ]
  },
  {
   "cell_type": "code",
   "execution_count": 32,
   "metadata": {},
   "outputs": [],
   "source": [
    "sc_one = MinMaxScaler(feature_range = (0, 1))\n",
    "sc_one.fit_transform(all_data.iloc[:, 1:2])\n",
    "predicted_stock_train = regressorGRU.predict(x_train)\n",
    "predicted_stock_train = sc_one.inverse_transform(predicted_stock_train)\n",
    "predicted_stock_test = regressorGRU.predict(x_test)\n",
    "predicted_stock_test = sc_one.inverse_transform(predicted_stock_test)\n",
    "real_price_train=sc_one.inverse_transform(np.reshape(y_train,(-1,1)))\n",
    "real_price_test=sc_one.inverse_transform(np.reshape(y_test,(-1,1)))"
   ]
  },
  {
   "cell_type": "code",
   "execution_count": 33,
   "metadata": {},
   "outputs": [
    {
     "data": {
      "image/png": "[encoded data removed]",
      "text/plain": [
       "<Figure size 432x288 with 1 Axes>"
      ]
     },
     "metadata": {
      "needs_background": "light"
     },
     "output_type": "display_data"
    }
   ],
   "source": [
    "# Visualising the test results\n",
    "plt.plot(real_price_train, color = 'red', label = 'Real Stock Price')\n",
    "plt.plot(predicted_stock_train, color = 'blue', label = 'Predicted Stock Price')\n",
    "plt.title('GRU train Stock Price Prediction')\n",
    "plt.xlabel('Time')\n",
    "plt.ylabel('Stock Price')\n",
    "plt.grid(True)\n",
    "plt.legend()\n",
    "plt.show()"
   ]
  },
  {
   "cell_type": "code",
   "execution_count": 34,
   "metadata": {},
   "outputs": [
    {
     "data": {
      "image/png": "[encoded data removed]",
      "text/plain": [
       "<Figure size 432x288 with 1 Axes>"
      ]
     },
     "metadata": {
      "needs_background": "light"
     },
     "output_type": "display_data"
    }
   ],
   "source": [
    "# Visualising the test results\n",
    "plt.plot(real_price_test, color = 'red', label = 'Real Stock Price')\n",
    "plt.plot(predicted_stock_test, color = 'blue', label = 'Predicted Stock Price')\n",
    "plt.title('GRU test Stock Price Prediction')\n",
    "plt.xlabel('Time')\n",
    "plt.ylabel('Stock Price')\n",
    "plt.grid(True)\n",
    "plt.legend()\n",
    "plt.show()"
   ]
  },
  {
   "cell_type": "code",
   "execution_count": 35,
   "metadata": {},
   "outputs": [
    {
     "name": "stdout",
     "output_type": "stream",
     "text": [
      "GRU模型的均方误差是: 5.316634\n",
      "GRU模型的均方根误差是: 2.305783\n",
      "GRU模型的平均绝对误差是: 1.557126\n",
      "GRU模型的R-squared是: 0.939961\n"
     ]
    }
   ],
   "source": [
    "from sklearn.metrics import mean_squared_error, mean_absolute_error, r2_score\n",
    "import math\n",
    "##########evaluate##############\n",
    "# calculate MSE 均方误差 ---> E[(预测值-真实值)^2] (预测值减真实值求平方后求均值)\n",
    "mse = mean_squared_error(predicted_stock_test, real_price_test)\n",
    "# calculate RMSE 均方根误差--->sqrt[MSE]    (对均方误差开方)\n",
    "rmse = math.sqrt( mean_squared_error(predicted_stock_test, real_price_test))\n",
    "# calculate MAE 平均绝对误差----->E[|预测值-真实值|](预测值减真实值求绝对值后求均值）\n",
    "mae = mean_absolute_error(predicted_stock_test, real_price_test)\n",
    "\n",
    "r2=r2_score(predicted_stock_test, real_price_test)\n",
    "\n",
    "print('GRU模型的均方误差是: %.6f' % mse)\n",
    "print('GRU模型的均方根误差是: %.6f' % rmse)\n",
    "print('GRU模型的平均绝对误差是: %.6f' % mae)\n",
    "print('GRU模型的R-squared是: %.6f' % r2)"
   ]
  },
  {
   "cell_type": "code",
   "execution_count": 39,
   "metadata": {},
   "outputs": [
    {
     "data": {
      "text/plain": [
       "(2, 2, 5)"
      ]
     },
     "execution_count": 39,
     "metadata": {},
     "output_type": "execute_result"
    }
   ],
   "source": [
    "a=np.array(range(10)).reshape(2,5)\n",
    "b=np.array(range(10)).reshape(2,5)\n",
    "c=np.stack((a,b))\n",
    "c.shape"
   ]
  },
  {
   "cell_type": "code",
   "execution_count": 36,
   "metadata": {},
   "outputs": [],
   "source": [
    "# BiLSTM\n",
    "regressorBiLSTM = Sequential()\n",
    "# firt LSTM layer\n",
    "regressorBiLSTM.add(Bidirectional(LSTM(units=50, return_sequences=True), input_shape=(x_train.shape[1],6), merge_mode='concat'))\n",
    "regressorBiLSTM.add(Dropout(0.2))\n",
    "# second LSTM layer\n",
    "regressorBiLSTM.add(Bidirectional(LSTM(units=50, return_sequences=True)))\n",
    "regressorBiLSTM.add(Dropout(0.2))\n",
    "# third LSTM layer\n",
    "regressorBiLSTM.add(Bidirectional(LSTM(units=50, return_sequences=True)))\n",
    "regressorBiLSTM.add(Dropout(0.2))\n",
    "# fourth LSTM layer\n",
    "regressorBiLSTM.add(Bidirectional(LSTM(units=50)))\n",
    "regressorBiLSTM.add(Dropout(0.2))\n",
    "# output layer\n",
    "regressorBiLSTM.add(Dense(units=1))\n",
    "# compile the RNN\n",
    "regressorBiLSTM.compile(optimizer='adam', loss='mean_squared_error')"
   ]
  },
  {
   "cell_type": "code",
   "execution_count": 37,
   "metadata": {},
   "outputs": [
    {
     "name": "stdout",
     "output_type": "stream",
     "text": [
      "Model: \"sequential_2\"\n",
      "_________________________________________________________________\n",
      "Layer (type)                 Output Shape              Param #   \n",
      "=================================================================\n",
      "bidirectional (Bidirectional (None, 60, 100)           22800     \n",
      "_________________________________________________________________\n",
      "dropout_8 (Dropout)          (None, 60, 100)           0         \n",
      "_________________________________________________________________\n",
      "bidirectional_1 (Bidirection (None, 60, 100)           60400     \n",
      "_________________________________________________________________\n",
      "dropout_9 (Dropout)          (None, 60, 100)           0         \n",
      "_________________________________________________________________\n",
      "bidirectional_2 (Bidirection (None, 60, 100)           60400     \n",
      "_________________________________________________________________\n",
      "dropout_10 (Dropout)         (None, 60, 100)           0         \n",
      "_________________________________________________________________\n",
      "bidirectional_3 (Bidirection (None, 100)               60400     \n",
      "_________________________________________________________________\n",
      "dropout_11 (Dropout)         (None, 100)               0         \n",
      "_________________________________________________________________\n",
      "dense_2 (Dense)              (None, 1)                 101       \n",
      "=================================================================\n",
      "Total params: 204,101\n",
      "Trainable params: 204,101\n",
      "Non-trainable params: 0\n",
      "_________________________________________________________________\n",
      "None\n"
     ]
    }
   ],
   "source": [
    "print(regressorBiLSTM.summary()) # Summarize Model 模型可视化"
   ]
  },
  {
   "cell_type": "code",
   "execution_count": 38,
   "metadata": {},
   "outputs": [
    {
     "name": "stdout",
     "output_type": "stream",
     "text": [
      "           OPERATION           DATA DIMENSIONS   WEIGHTS(N)   WEIGHTS(%)\n",
      "\n",
      "               Input   #####     60    6\n",
      "       Bidirectional   ????? -------------------     22800    11.2%\n",
      "                       #####     60  100\n",
      "             Dropout    | || -------------------         0     0.0%\n",
      "                       #####     60  100\n",
      "       Bidirectional   ????? -------------------     60400    29.6%\n",
      "                       #####     60  100\n",
      "             Dropout    | || -------------------         0     0.0%\n",
      "                       #####     60  100\n",
      "       Bidirectional   ????? -------------------     60400    29.6%\n",
      "                       #####     60  100\n",
      "             Dropout    | || -------------------         0     0.0%\n",
      "                       #####     60  100\n",
      "       Bidirectional   ????? -------------------     60400    29.6%\n",
      "                       #####         100\n",
      "             Dropout    | || -------------------         0     0.0%\n",
      "                       #####         100\n",
      "               Dense   XXXXX -------------------       101     0.0%\n",
      "                       #####           1\n"
     ]
    }
   ],
   "source": [
    "from keras_sequential_ascii import keras2ascii\n",
    "keras2ascii(regressorBiLSTM)"
   ]
  },
  {
   "cell_type": "code",
   "execution_count": 39,
   "metadata": {},
   "outputs": [
    {
     "name": "stdout",
     "output_type": "stream",
     "text": [
      "Epoch 1/200\n",
      "205/205 [==============================] - 8s 38ms/step - loss: 0.0046 - val_loss: 9.0049e-04\n",
      "Epoch 2/200\n",
      "205/205 [==============================] - 5s 25ms/step - loss: 0.0020 - val_loss: 5.0071e-04\n",
      "Epoch 3/200\n",
      "205/205 [==============================] - 5s 25ms/step - loss: 0.0016 - val_loss: 0.0010\n",
      "Epoch 4/200\n",
      "205/205 [==============================] - 5s 25ms/step - loss: 0.0014 - val_loss: 4.2354e-04\n",
      "Epoch 5/200\n",
      "205/205 [==============================] - 5s 25ms/step - loss: 0.0013 - val_loss: 4.2634e-04\n",
      "Epoch 6/200\n",
      "205/205 [==============================] - 5s 24ms/step - loss: 0.0012 - val_loss: 2.9994e-04\n",
      "Epoch 7/200\n",
      "205/205 [==============================] - 5s 24ms/step - loss: 0.0015 - val_loss: 0.0024\n",
      "Epoch 8/200\n",
      "205/205 [==============================] - 5s 24ms/step - loss: 0.0011 - val_loss: 2.5135e-04\n",
      "Epoch 9/200\n",
      "205/205 [==============================] - 5s 24ms/step - loss: 0.0010 - val_loss: 9.0409e-04\n",
      "Epoch 10/200\n",
      "205/205 [==============================] - 5s 24ms/step - loss: 9.5034e-04 - val_loss: 6.1002e-04\n",
      "Epoch 11/200\n",
      "205/205 [==============================] - 5s 24ms/step - loss: 9.0623e-04 - val_loss: 2.4875e-04\n",
      "Epoch 12/200\n",
      "205/205 [==============================] - 5s 24ms/step - loss: 8.4903e-04 - val_loss: 9.0848e-04\n",
      "Epoch 13/200\n",
      "205/205 [==============================] - 5s 24ms/step - loss: 9.1192e-04 - val_loss: 2.3833e-04\n",
      "Epoch 14/200\n",
      "205/205 [==============================] - 5s 24ms/step - loss: 9.1124e-04 - val_loss: 2.3751e-04\n",
      "Epoch 15/200\n",
      "205/205 [==============================] - 5s 24ms/step - loss: 7.9375e-04 - val_loss: 6.6830e-04\n",
      "Epoch 16/200\n",
      "205/205 [==============================] - 5s 24ms/step - loss: 7.7602e-04 - val_loss: 7.6849e-04\n",
      "Epoch 17/200\n",
      "205/205 [==============================] - 5s 24ms/step - loss: 7.4997e-04 - val_loss: 1.7264e-04\n",
      "Epoch 18/200\n",
      "205/205 [==============================] - 5s 24ms/step - loss: 7.3389e-04 - val_loss: 2.3763e-04\n",
      "Epoch 19/200\n",
      "205/205 [==============================] - 5s 25ms/step - loss: 7.1425e-04 - val_loss: 1.6983e-04\n",
      "Epoch 20/200\n",
      "205/205 [==============================] - 5s 25ms/step - loss: 7.1985e-04 - val_loss: 4.6874e-04\n",
      "Epoch 21/200\n",
      "205/205 [==============================] - 5s 24ms/step - loss: 6.9500e-04 - val_loss: 1.6401e-04\n",
      "Epoch 22/200\n",
      "205/205 [==============================] - 5s 24ms/step - loss: 6.3881e-04 - val_loss: 2.5402e-04\n",
      "Epoch 23/200\n",
      "205/205 [==============================] - 5s 24ms/step - loss: 6.6537e-04 - val_loss: 5.0742e-04\n",
      "Epoch 24/200\n",
      "205/205 [==============================] - 5s 25ms/step - loss: 6.6866e-04 - val_loss: 3.2342e-04\n",
      "Epoch 25/200\n",
      "205/205 [==============================] - 5s 24ms/step - loss: 6.8255e-04 - val_loss: 4.3763e-04\n",
      "Epoch 26/200\n",
      "205/205 [==============================] - 5s 24ms/step - loss: 6.2819e-04 - val_loss: 3.0542e-04\n",
      "Epoch 27/200\n",
      "205/205 [==============================] - 5s 24ms/step - loss: 6.4587e-04 - val_loss: 4.9903e-04\n",
      "Epoch 28/200\n",
      "205/205 [==============================] - 5s 24ms/step - loss: 5.9597e-04 - val_loss: 6.9056e-04\n",
      "Epoch 29/200\n",
      "205/205 [==============================] - 5s 24ms/step - loss: 6.1304e-04 - val_loss: 1.2360e-04\n",
      "Epoch 30/200\n",
      "205/205 [==============================] - 5s 24ms/step - loss: 6.1796e-04 - val_loss: 6.2559e-04\n",
      "Epoch 31/200\n",
      "205/205 [==============================] - 5s 25ms/step - loss: 6.4679e-04 - val_loss: 5.9558e-04\n",
      "Epoch 32/200\n",
      "205/205 [==============================] - 5s 24ms/step - loss: 5.6067e-04 - val_loss: 1.3117e-04\n",
      "Epoch 33/200\n",
      "205/205 [==============================] - 5s 25ms/step - loss: 5.8348e-04 - val_loss: 7.9486e-04\n",
      "Epoch 34/200\n",
      "205/205 [==============================] - 5s 25ms/step - loss: 5.4267e-04 - val_loss: 7.5149e-04\n",
      "Epoch 35/200\n",
      "205/205 [==============================] - 5s 25ms/step - loss: 5.3362e-04 - val_loss: 1.5766e-04\n",
      "Epoch 36/200\n",
      "205/205 [==============================] - 5s 24ms/step - loss: 5.6310e-04 - val_loss: 1.5155e-04\n",
      "Epoch 37/200\n",
      "205/205 [==============================] - 5s 25ms/step - loss: 5.8004e-04 - val_loss: 1.8920e-04\n",
      "Epoch 38/200\n",
      "205/205 [==============================] - 5s 24ms/step - loss: 5.6547e-04 - val_loss: 2.4502e-04\n",
      "Epoch 39/200\n",
      "205/205 [==============================] - 5s 24ms/step - loss: 5.6639e-04 - val_loss: 1.7822e-04\n",
      "Epoch 40/200\n",
      "205/205 [==============================] - 5s 25ms/step - loss: 5.7226e-04 - val_loss: 1.5550e-04\n",
      "Epoch 41/200\n",
      "205/205 [==============================] - 5s 25ms/step - loss: 5.3063e-04 - val_loss: 1.2335e-04\n",
      "Epoch 42/200\n",
      "205/205 [==============================] - 5s 25ms/step - loss: 5.0006e-04 - val_loss: 1.1978e-04\n",
      "Epoch 43/200\n",
      "205/205 [==============================] - 5s 24ms/step - loss: 5.3700e-04 - val_loss: 5.0701e-04\n",
      "Epoch 44/200\n",
      "205/205 [==============================] - 5s 24ms/step - loss: 4.9747e-04 - val_loss: 2.9885e-04\n",
      "Epoch 45/200\n",
      "205/205 [==============================] - 5s 24ms/step - loss: 4.9259e-04 - val_loss: 1.2083e-04\n",
      "Epoch 46/200\n",
      "205/205 [==============================] - 5s 24ms/step - loss: 5.1790e-04 - val_loss: 0.0020\n",
      "Epoch 47/200\n",
      "205/205 [==============================] - 5s 24ms/step - loss: 4.7597e-04 - val_loss: 1.5596e-04\n",
      "Epoch 48/200\n",
      "205/205 [==============================] - 5s 25ms/step - loss: 5.0710e-04 - val_loss: 1.1487e-04\n",
      "Epoch 49/200\n",
      "205/205 [==============================] - 5s 25ms/step - loss: 4.9623e-04 - val_loss: 1.0910e-04\n",
      "Epoch 50/200\n",
      "205/205 [==============================] - 5s 25ms/step - loss: 4.5580e-04 - val_loss: 3.4924e-04\n",
      "Epoch 51/200\n",
      "205/205 [==============================] - 5s 24ms/step - loss: 5.0714e-04 - val_loss: 2.1002e-04\n",
      "Epoch 52/200\n",
      "205/205 [==============================] - 5s 24ms/step - loss: 4.6722e-04 - val_loss: 1.8700e-04\n",
      "Epoch 53/200\n",
      "205/205 [==============================] - 5s 24ms/step - loss: 4.4190e-04 - val_loss: 5.6325e-04\n",
      "Epoch 54/200\n",
      "205/205 [==============================] - 5s 24ms/step - loss: 4.9163e-04 - val_loss: 2.2968e-04\n",
      "Epoch 55/200\n",
      "205/205 [==============================] - 5s 24ms/step - loss: 4.7172e-04 - val_loss: 9.1961e-05\n",
      "Epoch 56/200\n",
      "205/205 [==============================] - 5s 25ms/step - loss: 4.9467e-04 - val_loss: 8.5071e-05\n",
      "Epoch 57/200\n",
      "205/205 [==============================] - 5s 25ms/step - loss: 4.6887e-04 - val_loss: 9.0256e-05\n",
      "Epoch 58/200\n",
      "205/205 [==============================] - 5s 25ms/step - loss: 4.8727e-04 - val_loss: 3.9886e-04\n",
      "Epoch 59/200\n",
      "205/205 [==============================] - 5s 25ms/step - loss: 4.5296e-04 - val_loss: 6.8134e-04\n",
      "Epoch 60/200\n",
      "205/205 [==============================] - 5s 24ms/step - loss: 4.7169e-04 - val_loss: 1.4493e-04\n",
      "Epoch 61/200\n",
      "205/205 [==============================] - 5s 24ms/step - loss: 4.5088e-04 - val_loss: 0.0016\n",
      "Epoch 62/200\n",
      "205/205 [==============================] - 5s 24ms/step - loss: 4.3410e-04 - val_loss: 5.2904e-04\n",
      "Epoch 63/200\n",
      "205/205 [==============================] - 5s 24ms/step - loss: 4.2936e-04 - val_loss: 0.0026\n",
      "Epoch 64/200\n",
      "205/205 [==============================] - 5s 24ms/step - loss: 4.6581e-04 - val_loss: 1.4716e-04\n",
      "Epoch 65/200\n",
      "205/205 [==============================] - 5s 24ms/step - loss: 4.3544e-04 - val_loss: 2.5903e-04\n",
      "Epoch 66/200\n",
      "205/205 [==============================] - 5s 24ms/step - loss: 4.2191e-04 - val_loss: 5.1338e-04\n",
      "Epoch 67/200\n",
      "205/205 [==============================] - 5s 24ms/step - loss: 4.5656e-04 - val_loss: 2.3502e-04\n",
      "Epoch 68/200\n",
      "205/205 [==============================] - 5s 25ms/step - loss: 4.2810e-04 - val_loss: 5.4408e-04\n",
      "Epoch 69/200\n",
      "205/205 [==============================] - 5s 25ms/step - loss: 4.6672e-04 - val_loss: 1.8680e-04\n",
      "Epoch 70/200\n",
      "205/205 [==============================] - 5s 25ms/step - loss: 4.4313e-04 - val_loss: 8.2713e-05\n",
      "Epoch 71/200\n",
      "205/205 [==============================] - 5s 24ms/step - loss: 4.1126e-04 - val_loss: 1.5705e-04\n",
      "Epoch 72/200\n",
      "205/205 [==============================] - 5s 24ms/step - loss: 4.0464e-04 - val_loss: 4.5988e-04\n",
      "Epoch 73/200\n",
      "205/205 [==============================] - 5s 24ms/step - loss: 3.9521e-04 - val_loss: 3.5836e-04\n",
      "Epoch 74/200\n",
      "205/205 [==============================] - 5s 24ms/step - loss: 3.9420e-04 - val_loss: 3.6369e-04\n",
      "Epoch 75/200\n"
     ]
    },
    {
     "name": "stdout",
     "output_type": "stream",
     "text": [
      "205/205 [==============================] - 5s 25ms/step - loss: 4.0541e-04 - val_loss: 2.0850e-04\n",
      "Epoch 76/200\n",
      "205/205 [==============================] - 5s 24ms/step - loss: 4.3859e-04 - val_loss: 2.9656e-04\n",
      "Epoch 77/200\n",
      "205/205 [==============================] - 5s 24ms/step - loss: 3.9677e-04 - val_loss: 3.1495e-04\n",
      "Epoch 78/200\n",
      "205/205 [==============================] - 5s 24ms/step - loss: 4.2225e-04 - val_loss: 2.3008e-04\n",
      "Epoch 79/200\n",
      "205/205 [==============================] - 5s 24ms/step - loss: 4.0010e-04 - val_loss: 0.0010\n",
      "Epoch 80/200\n",
      "205/205 [==============================] - 5s 25ms/step - loss: 4.2115e-04 - val_loss: 3.2908e-04\n",
      "Epoch 81/200\n",
      "205/205 [==============================] - 5s 25ms/step - loss: 3.7430e-04 - val_loss: 9.9743e-05\n",
      "Epoch 82/200\n",
      "205/205 [==============================] - 5s 25ms/step - loss: 4.1765e-04 - val_loss: 2.7567e-04\n",
      "Epoch 83/200\n",
      "205/205 [==============================] - 5s 24ms/step - loss: 4.0524e-04 - val_loss: 1.0736e-04\n",
      "Epoch 84/200\n",
      "205/205 [==============================] - 5s 24ms/step - loss: 4.1775e-04 - val_loss: 1.4945e-04\n",
      "Epoch 85/200\n",
      "205/205 [==============================] - 5s 25ms/step - loss: 4.4380e-04 - val_loss: 0.0011\n",
      "Epoch 86/200\n",
      "205/205 [==============================] - 5s 24ms/step - loss: 4.6867e-04 - val_loss: 7.1735e-05\n",
      "Epoch 87/200\n",
      "205/205 [==============================] - 5s 24ms/step - loss: 3.8685e-04 - val_loss: 1.1663e-04\n",
      "Epoch 88/200\n",
      "205/205 [==============================] - 5s 25ms/step - loss: 4.2873e-04 - val_loss: 5.2770e-04\n",
      "Epoch 89/200\n",
      "205/205 [==============================] - 5s 24ms/step - loss: 4.1841e-04 - val_loss: 1.0165e-04\n",
      "Epoch 90/200\n",
      "205/205 [==============================] - 5s 25ms/step - loss: 3.7501e-04 - val_loss: 3.1247e-04\n",
      "Epoch 91/200\n",
      "205/205 [==============================] - 5s 24ms/step - loss: 4.0003e-04 - val_loss: 1.5895e-04\n",
      "Epoch 92/200\n",
      "205/205 [==============================] - 5s 24ms/step - loss: 3.7554e-04 - val_loss: 2.1101e-04\n",
      "Epoch 93/200\n",
      "205/205 [==============================] - 5s 25ms/step - loss: 4.3501e-04 - val_loss: 1.1117e-04\n",
      "Epoch 94/200\n",
      "205/205 [==============================] - 5s 25ms/step - loss: 3.7981e-04 - val_loss: 3.0908e-04\n",
      "Epoch 95/200\n",
      "205/205 [==============================] - 5s 24ms/step - loss: 3.5376e-04 - val_loss: 1.6834e-04\n",
      "Epoch 96/200\n",
      "205/205 [==============================] - 5s 24ms/step - loss: 3.9169e-04 - val_loss: 4.2426e-04\n",
      "Epoch 97/200\n",
      "205/205 [==============================] - 5s 24ms/step - loss: 4.1766e-04 - val_loss: 0.0012\n",
      "Epoch 98/200\n",
      "205/205 [==============================] - 5s 25ms/step - loss: 3.8661e-04 - val_loss: 7.1279e-04\n",
      "Epoch 99/200\n",
      "205/205 [==============================] - 5s 25ms/step - loss: 3.5625e-04 - val_loss: 2.8403e-04\n",
      "Epoch 100/200\n",
      "205/205 [==============================] - 5s 24ms/step - loss: 3.8216e-04 - val_loss: 1.8805e-04\n",
      "Epoch 101/200\n",
      "205/205 [==============================] - 5s 24ms/step - loss: 4.1927e-04 - val_loss: 1.4226e-04\n",
      "Epoch 102/200\n",
      "205/205 [==============================] - 5s 25ms/step - loss: 3.8354e-04 - val_loss: 8.0372e-05\n",
      "Epoch 103/200\n",
      "205/205 [==============================] - 5s 25ms/step - loss: 3.7745e-04 - val_loss: 2.3579e-04\n",
      "Epoch 104/200\n",
      "205/205 [==============================] - 5s 24ms/step - loss: 3.8866e-04 - val_loss: 1.5874e-04\n",
      "Epoch 105/200\n",
      "205/205 [==============================] - 5s 25ms/step - loss: 3.6977e-04 - val_loss: 1.3834e-04\n",
      "Epoch 106/200\n",
      "205/205 [==============================] - 5s 24ms/step - loss: 3.8214e-04 - val_loss: 1.3947e-04\n",
      "Epoch 00106: early stopping\n"
     ]
    }
   ],
   "source": [
    "# fit to the training set\n",
    "history=regressorBiLSTM.fit(x_train, y_train, epochs=200, batch_size=32,validation_data=(x_val, y_val),callbacks=[mc, earlystop])"
   ]
  },
  {
   "cell_type": "code",
   "execution_count": 40,
   "metadata": {},
   "outputs": [
    {
     "data": {
      "image/png": "[encoded data removed]",
      "text/plain": [
       "<Figure size 432x288 with 1 Axes>"
      ]
     },
     "metadata": {
      "needs_background": "light"
     },
     "output_type": "display_data"
    }
   ],
   "source": [
    "#画损失曲线图\n",
    "loss = history.history['loss']\n",
    "val_loss = history.history['val_loss']\n",
    "epochs = range(1, len(loss) + 1)\n",
    "plt.title('BiLSTM Loss curve')\n",
    "plt.plot(epochs, loss, 'red', label='Training loss')\n",
    "plt.plot(epochs, val_loss, 'blue', label='Validation loss')\n",
    "plt.grid(True)\n",
    "plt.xlabel('epoch')\n",
    "plt.ylabel('loss')\n",
    "plt.legend()\n",
    "plt.show()"
   ]
  },
  {
   "cell_type": "code",
   "execution_count": 41,
   "metadata": {},
   "outputs": [],
   "source": [
    "sc_one = MinMaxScaler(feature_range = (0, 1))\n",
    "sc_one.fit_transform(all_data.iloc[:, 1:2])\n",
    "predicted_stock_train = regressorBiLSTM.predict(x_train)\n",
    "predicted_stock_train = sc_one.inverse_transform(predicted_stock_train)\n",
    "predicted_stock_test = regressorBiLSTM.predict(x_test)\n",
    "predicted_stock_test = sc_one.inverse_transform(predicted_stock_test)\n",
    "real_price_train=sc_one.inverse_transform(np.reshape(y_train,(-1,1)))\n",
    "real_price_test=sc_one.inverse_transform(np.reshape(y_test,(-1,1)))"
   ]
  },
  {
   "cell_type": "code",
   "execution_count": 42,
   "metadata": {},
   "outputs": [
    {
     "data": {
      "image/png": "[encoded data removed]",
      "text/plain": [
       "<Figure size 432x288 with 1 Axes>"
      ]
     },
     "metadata": {
      "needs_background": "light"
     },
     "output_type": "display_data"
    }
   ],
   "source": [
    "# Visualising the test results\n",
    "plt.plot(real_price_train, color = 'red', label = 'Real Stock Price')\n",
    "plt.plot(predicted_stock_train, color = 'blue', label = 'Predicted Stock Price')\n",
    "plt.title('BiLSTM train Stock Price Prediction')\n",
    "plt.xlabel('Time')\n",
    "plt.ylabel('Stock Price')\n",
    "plt.grid(True)\n",
    "plt.legend()\n",
    "plt.show()"
   ]
  },
  {
   "cell_type": "code",
   "execution_count": 43,
   "metadata": {},
   "outputs": [
    {
     "data": {
      "image/png": "[encoded data removed]",
      "text/plain": [
       "<Figure size 432x288 with 1 Axes>"
      ]
     },
     "metadata": {
      "needs_background": "light"
     },
     "output_type": "display_data"
    }
   ],
   "source": [
    "# Visualising the test results\n",
    "plt.plot(real_price_test, color = 'red', label = 'Real Stock Price')\n",
    "plt.plot(predicted_stock_test, color = 'blue', label = 'Predicted Stock Price')\n",
    "plt.title('BiLSTM test Stock Price Prediction')\n",
    "plt.xlabel('Time')\n",
    "plt.ylabel('Stock Price')\n",
    "plt.grid(True)\n",
    "plt.legend()\n",
    "plt.show()"
   ]
  },
  {
   "cell_type": "code",
   "execution_count": 44,
   "metadata": {},
   "outputs": [
    {
     "name": "stdout",
     "output_type": "stream",
     "text": [
      "BiLSTM模型的均方误差是: 8.633169\n",
      "BiLSTM模型的均方根误差是: 2.938226\n",
      "BiLSTM模型的平均绝对误差是: 2.378653\n",
      "BiLSTM模型的R-squared是: 0.883235\n"
     ]
    }
   ],
   "source": [
    "from sklearn.metrics import mean_squared_error, mean_absolute_error, r2_score\n",
    "import math\n",
    "##########evaluate##############\n",
    "# calculate MSE 均方误差 ---> E[(预测值-真实值)^2] (预测值减真实值求平方后求均值)\n",
    "mse = mean_squared_error(predicted_stock_test, real_price_test)\n",
    "# calculate RMSE 均方根误差--->sqrt[MSE]    (对均方误差开方)\n",
    "rmse = math.sqrt( mean_squared_error(predicted_stock_test, real_price_test))\n",
    "# calculate MAE 平均绝对误差----->E[|预测值-真实值|](预测值减真实值求绝对值后求均值）\n",
    "mae = mean_absolute_error(predicted_stock_test, real_price_test)\n",
    "\n",
    "r2=r2_score(predicted_stock_test, real_price_test)\n",
    "\n",
    "print('BiLSTM模型的均方误差是: %.6f' % mse)\n",
    "print('BiLSTM模型的均方根误差是: %.6f' % rmse)\n",
    "print('BiLSTM模型的平均绝对误差是: %.6f' % mae)\n",
    "print('BiLSTM模型的R-squared是: %.6f' % r2)"
   ]
  }
 ],
 "metadata": {
  "kernelspec": {
   "display_name": "Python 3.8.8 ('base')",
   "language": "python",
   "name": "python3"
  },
  "language_info": {
   "codemirror_mode": {
    "name": "ipython",
    "version": 3
   },
   "file_extension": ".py",
   "mimetype": "text/x-python",
   "name": "python",
   "nbconvert_exporter": "python",
   "pygments_lexer": "ipython3",
   "version": "3.8.8"
  },
  "vscode": {
   "interpreter": {
    "hash": "414339477dce8ad21bdf41cacf05011be0c0809da68b1d12623186fed67fb677"
   }
  }
 },
 "nbformat": 4,
 "nbformat_minor": 2
}
