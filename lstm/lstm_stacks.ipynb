{
 "cells": [
  {
   "cell_type": "code",
   "execution_count": null,
   "metadata": {},
   "outputs": [],
   "source": []
  }
 ],
 "metadata": {
  "kernelspec": {
   "display_name": "Python 3.8.8 ('base')",
   "language": "python",
   "name": "python3"
  },
  "language_info": {
   "name": "python",
   "version": "3.8.8"
  },
  "orig_nbformat": 4,
  "vscode": {
   "interpreter": {
    "hash": "414339477dce8ad21bdf41cacf05011be0c0809da68b1d12623186fed67fb677"
   }
  }
 },
 "nbformat": 4,
 "nbformat_minor": 2
}
